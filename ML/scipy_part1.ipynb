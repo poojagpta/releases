{
  "nbformat": 4,
  "nbformat_minor": 0,
  "metadata": {
    "colab": {
      "name": "scipy_optimization.ipynb",
      "provenance": [],
      "authorship_tag": "ABX9TyOO0G+4elmEa2RCEkjQPq0b",
      "include_colab_link": true
    },
    "kernelspec": {
      "name": "python3",
      "display_name": "Python 3"
    },
    "language_info": {
      "name": "python"
    }
  },
  "cells": [
    {
      "cell_type": "markdown",
      "metadata": {
        "id": "view-in-github",
        "colab_type": "text"
      },
      "source": [
        "<a href=\"https://colab.research.google.com/github/poojagpta/releases/blob/master/ML/scipy_part1.ipynb\" target=\"_parent\"><img src=\"https://colab.research.google.com/assets/colab-badge.svg\" alt=\"Open In Colab\"/></a>"
      ]
    },
    {
      "cell_type": "code",
      "metadata": {
        "id": "Qsj20ZkFus_N"
      },
      "source": [
        "import scipy as sp\n",
        "\n",
        "from scipy.optimize import minimize"
      ],
      "execution_count": 16,
      "outputs": []
    },
    {
      "cell_type": "markdown",
      "metadata": {
        "id": "qEMfsAplux24"
      },
      "source": [
        "#Optimization\n",
        "Minimize f(x) = (x-3)^2\n"
      ]
    },
    {
      "cell_type": "code",
      "metadata": {
        "id": "yemnb9KZuxEk"
      },
      "source": [
        "def f(x):\n",
        "  return (x-3)**2"
      ],
      "execution_count": 2,
      "outputs": []
    },
    {
      "cell_type": "code",
      "metadata": {
        "id": "SnivZAoCvNQ5"
      },
      "source": [
        "res= minimize(f,0)"
      ],
      "execution_count": 5,
      "outputs": []
    },
    {
      "cell_type": "code",
      "metadata": {
        "colab": {
          "base_uri": "https://localhost:8080/"
        },
        "id": "Bk857szevfgE",
        "outputId": "f62fb2ec-f031-4076-e55f-ccfbb86b4abf"
      },
      "source": [
        "res"
      ],
      "execution_count": 6,
      "outputs": [
        {
          "output_type": "execute_result",
          "data": {
            "text/plain": [
              "      fun: 2.5388963550532293e-16\n",
              " hess_inv: array([[0.5]])\n",
              "      jac: array([-1.69666681e-08])\n",
              "  message: 'Optimization terminated successfully.'\n",
              "     nfev: 9\n",
              "      nit: 2\n",
              "     njev: 3\n",
              "   status: 0\n",
              "  success: True\n",
              "        x: array([2.99999998])"
            ]
          },
          "metadata": {},
          "execution_count": 6
        }
      ]
    },
    {
      "cell_type": "markdown",
      "metadata": {
        "id": "dXKGq0UBwZUV"
      },
      "source": [
        "Minimize 2-dimenstional Equation\n",
        "f(x,y) = xy subject to contraints\n",
        "\n",
        "g(x,y) = x+4y=120\n"
      ]
    },
    {
      "cell_type": "code",
      "metadata": {
        "id": "dbI_B5bMx0Hn"
      },
      "source": [
        "f1 = lambda x: (x[0])* (x[1])*(-1)"
      ],
      "execution_count": 17,
      "outputs": []
    },
    {
      "cell_type": "code",
      "metadata": {
        "id": "Eatz74Z-yRNY"
      },
      "source": [
        "cons = ({'type':'eq','fun': lambda x: x[0]+4*x[1]-120})\n",
        "bnds = ((0,None),(0,None))"
      ],
      "execution_count": 18,
      "outputs": []
    },
    {
      "cell_type": "code",
      "metadata": {
        "id": "1Z7kvdrAzdIi"
      },
      "source": [
        "res1 = minimize(f1,(0,0),bounds=bnds,constraints=cons)"
      ],
      "execution_count": 19,
      "outputs": []
    },
    {
      "cell_type": "code",
      "metadata": {
        "colab": {
          "base_uri": "https://localhost:8080/"
        },
        "id": "K0nOU-h2zxUz",
        "outputId": "f7ef1946-fd1b-4067-f917-dcb7e34fb56b"
      },
      "source": [
        "res1"
      ],
      "execution_count": 20,
      "outputs": [
        {
          "output_type": "execute_result",
          "data": {
            "text/plain": [
              "     fun: -899.9999999999992\n",
              "     jac: array([-15.        , -60.00000763])\n",
              " message: 'Optimization terminated successfully.'\n",
              "    nfev: 16\n",
              "     nit: 4\n",
              "    njev: 4\n",
              "  status: 0\n",
              " success: True\n",
              "       x: array([60.0000016, 14.9999996])"
            ]
          },
          "metadata": {},
          "execution_count": 20
        }
      ]
    },
    {
      "cell_type": "markdown",
      "metadata": {
        "id": "FepLUQNw12CT"
      },
      "source": [
        "Interpolation"
      ]
    },
    {
      "cell_type": "code",
      "metadata": {
        "id": "c7qm9yX011Wj"
      },
      "source": [
        "from scipy.interpolate import interp1d\n",
        "\n",
        "import numpy as np\n",
        "import matplotlib.pyplot as plt"
      ],
      "execution_count": 29,
      "outputs": []
    },
    {
      "cell_type": "code",
      "metadata": {
        "colab": {
          "base_uri": "https://localhost:8080/",
          "height": 282
        },
        "id": "wBNFCPZJ2hAw",
        "outputId": "9f3025e5-52dc-4e0b-8b5d-578f42e48b2d"
      },
      "source": [
        "x=np.linspace(0,10,10)\n",
        "y=x**2 * np.sin(x)\n",
        "plt.scatter(x,y)"
      ],
      "execution_count": 30,
      "outputs": [
        {
          "output_type": "execute_result",
          "data": {
            "text/plain": [
              "<matplotlib.collections.PathCollection at 0x7f39ef59f9d0>"
            ]
          },
          "metadata": {},
          "execution_count": 30
        },
        {
          "output_type": "display_data",
          "data": {
            "image/png": "[encoded data removed]",
            "text/plain": [
              "<Figure size 432x288 with 1 Axes>"
            ]
          },
          "metadata": {
            "needs_background": "light"
          }
        }
      ]
    },
    {
      "cell_type": "code",
      "metadata": {
        "id": "Vn0GoWmp2T6T"
      },
      "source": [
        "f3=interp1d(x,y,kind='cubic')"
      ],
      "execution_count": 39,
      "outputs": []
    },
    {
      "cell_type": "code",
      "metadata": {
        "id": "WfDPiPO329tw"
      },
      "source": [
        "x_dense=np.linspace(0,10,10)\n",
        "y_dense = f3(x_dense)"
      ],
      "execution_count": 42,
      "outputs": []
    },
    {
      "cell_type": "code",
      "metadata": {
        "colab": {
          "base_uri": "https://localhost:8080/",
          "height": 282
        },
        "id": "uYDTIV4R3Ty5",
        "outputId": "5ff5e7d4-818c-4205-c8f1-fdd3d4a3052f"
      },
      "source": [
        "plt.plot(x_dense,y_dense)"
      ],
      "execution_count": 43,
      "outputs": [
        {
          "output_type": "execute_result",
          "data": {
            "text/plain": [
              "[<matplotlib.lines.Line2D at 0x7f39ec0c1250>]"
            ]
          },
          "metadata": {},
          "execution_count": 43
        },
        {
          "output_type": "display_data",
          "data": {
            "image/png": "[encoded data removed]",
            "text/plain": [
              "<Figure size 432x288 with 1 Axes>"
            ]
          },
          "metadata": {
            "needs_background": "light"
          }
        }
      ]
    },
    {
      "cell_type": "markdown",
      "metadata": {
        "id": "ckdLT5bJ4dQa"
      },
      "source": [
        "Statistics"
      ]
    },
    {
      "cell_type": "markdown",
      "metadata": {
        "id": "Q-vplD4L4tQb"
      },
      "source": [
        "Example 1: Beta distribution ()\n"
      ]
    },
    {
      "cell_type": "code",
      "metadata": {
        "id": "38yzu0Q44sR3"
      },
      "source": [
        "from scipy.stats import beta"
      ],
      "execution_count": 44,
      "outputs": []
    },
    {
      "cell_type": "code",
      "metadata": {
        "id": "npxGmPRH4eqP"
      },
      "source": [
        "a,b = 2.5, 3.1\n",
        "mean,var,skew,kurt = beta.stats(a,b,moments='mvsk') "
      ],
      "execution_count": 49,
      "outputs": []
    },
    {
      "cell_type": "code",
      "metadata": {
        "colab": {
          "base_uri": "https://localhost:8080/",
          "height": 282
        },
        "id": "5auLOVlL5gUS",
        "outputId": "7e7133a2-0e9d-470b-9b51-806bb3f58e96"
      },
      "source": [
        "x=np.linspace(beta.ppf(0,a,b), beta.ppf(1,a,b),1000)\n",
        "plt.plot(x, beta.pdf(x,a,b))"
      ],
      "execution_count": 53,
      "outputs": [
        {
          "output_type": "execute_result",
          "data": {
            "text/plain": [
              "[<matplotlib.lines.Line2D at 0x7f39ea090e10>]"
            ]
          },
          "metadata": {},
          "execution_count": 53
        },
        {
          "output_type": "display_data",
          "data": {
            "image/png": "[encoded data removed]",
            "text/plain": [
              "<Figure size 432x288 with 1 Axes>"
            ]
          },
          "metadata": {
            "needs_background": "light"
          }
        }
      ]
    },
    {
      "cell_type": "code",
      "metadata": {
        "id": "Rj30uluq7UAV"
      },
      "source": [
        ""
      ],
      "execution_count": null,
      "outputs": []
    }
  ]
}