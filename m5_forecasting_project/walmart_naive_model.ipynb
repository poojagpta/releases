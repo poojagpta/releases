{
  "nbformat": 4,
  "nbformat_minor": 0,
  "metadata": {
    "colab": {
      "name": "walmart_naive_model.ipynb",
      "provenance": [],
      "collapsed_sections": [],
      "mount_file_id": "https://github.com/poojagpta/releases/blob/master/m5_forecasting_project/walmart_naive_model.ipynb",
      "authorship_tag": "ABX9TyNPqdWa8dDjqWLxITCLP9MM",
      "include_colab_link": true
    },
    "kernelspec": {
      "name": "python3",
      "display_name": "Python 3"
    },
    "language_info": {
      "name": "python"
    },
    "widgets": {
      "application/vnd.jupyter.widget-state+json": {
        "fe380094a7694fd99c6736fe608bd3bd": {
          "model_module": "@jupyter-widgets/controls",
          "model_name": "HBoxModel",
          "model_module_version": "1.5.0",
          "state": {
            "_view_name": "HBoxView",
            "_dom_classes": [],
            "_model_name": "HBoxModel",
            "_view_module": "@jupyter-widgets/controls",
            "_model_module_version": "1.5.0",
            "_view_count": null,
            "_view_module_version": "1.5.0",
            "box_style": "",
            "layout": "IPY_MODEL_d7ab5332d64a448985c98c0e47888c48",
            "_model_module": "@jupyter-widgets/controls",
            "children": [
              "IPY_MODEL_2170824728a944a5a44b0983da8c4f1c",
              "IPY_MODEL_269c85f3dc694fd8b9345108996a5e44",
              "IPY_MODEL_4601a074904d4058b0893707a7183d2e"
            ]
          }
        },
        "d7ab5332d64a448985c98c0e47888c48": {
          "model_module": "@jupyter-widgets/base",
          "model_name": "LayoutModel",
          "model_module_version": "1.2.0",
          "state": {
            "_view_name": "LayoutView",
            "grid_template_rows": null,
            "right": null,
            "justify_content": null,
            "_view_module": "@jupyter-widgets/base",
            "overflow": null,
            "_model_module_version": "1.2.0",
            "_view_count": null,
            "flex_flow": null,
            "width": null,
            "min_width": null,
            "border": null,
            "align_items": null,
            "bottom": null,
            "_model_module": "@jupyter-widgets/base",
            "top": null,
            "grid_column": null,
            "overflow_y": null,
            "overflow_x": null,
            "grid_auto_flow": null,
            "grid_area": null,
            "grid_template_columns": null,
            "flex": null,
            "_model_name": "LayoutModel",
            "justify_items": null,
            "grid_row": null,
            "max_height": null,
            "align_content": null,
            "visibility": null,
            "align_self": null,
            "height": null,
            "min_height": null,
            "padding": null,
            "grid_auto_rows": null,
            "grid_gap": null,
            "max_width": null,
            "order": null,
            "_view_module_version": "1.2.0",
            "grid_template_areas": null,
            "object_position": null,
            "object_fit": null,
            "grid_auto_columns": null,
            "margin": null,
            "display": null,
            "left": null
          }
        },
        "2170824728a944a5a44b0983da8c4f1c": {
          "model_module": "@jupyter-widgets/controls",
          "model_name": "HTMLModel",
          "model_module_version": "1.5.0",
          "state": {
            "_view_name": "HTMLView",
            "style": "IPY_MODEL_5ac0ed34e74b48c889dbbb5e04d2876d",
            "_dom_classes": [],
            "description": "",
            "_model_name": "HTMLModel",
            "placeholder": "​",
            "_view_module": "@jupyter-widgets/controls",
            "_model_module_version": "1.5.0",
            "value": "100%",
            "_view_count": null,
            "_view_module_version": "1.5.0",
            "description_tooltip": null,
            "_model_module": "@jupyter-widgets/controls",
            "layout": "IPY_MODEL_6d22a324fda4496292cc2188c916c4d1"
          }
        },
        "269c85f3dc694fd8b9345108996a5e44": {
          "model_module": "@jupyter-widgets/controls",
          "model_name": "FloatProgressModel",
          "model_module_version": "1.5.0",
          "state": {
            "_view_name": "ProgressView",
            "style": "IPY_MODEL_b9283cf1ef574ca8b16fa345958408de",
            "_dom_classes": [],
            "description": "",
            "_model_name": "FloatProgressModel",
            "bar_style": "success",
            "max": 28,
            "_view_module": "@jupyter-widgets/controls",
            "_model_module_version": "1.5.0",
            "value": 28,
            "_view_count": null,
            "_view_module_version": "1.5.0",
            "orientation": "horizontal",
            "min": 0,
            "description_tooltip": null,
            "_model_module": "@jupyter-widgets/controls",
            "layout": "IPY_MODEL_97bf534353bb46e88ed96c27b8551cf1"
          }
        },
        "4601a074904d4058b0893707a7183d2e": {
          "model_module": "@jupyter-widgets/controls",
          "model_name": "HTMLModel",
          "model_module_version": "1.5.0",
          "state": {
            "_view_name": "HTMLView",
            "style": "IPY_MODEL_98f1813e1faa4a3ab7a73ae2a8800bad",
            "_dom_classes": [],
            "description": "",
            "_model_name": "HTMLModel",
            "placeholder": "​",
            "_view_module": "@jupyter-widgets/controls",
            "_model_module_version": "1.5.0",
            "value": " 28/28 [00:10&lt;00:00,  3.03it/s]",
            "_view_count": null,
            "_view_module_version": "1.5.0",
            "description_tooltip": null,
            "_model_module": "@jupyter-widgets/controls",
            "layout": "IPY_MODEL_0c50feb7a2584aa7bee67dd983254f67"
          }
        },
        "5ac0ed34e74b48c889dbbb5e04d2876d": {
          "model_module": "@jupyter-widgets/controls",
          "model_name": "DescriptionStyleModel",
          "model_module_version": "1.5.0",
          "state": {
            "_view_name": "StyleView",
            "_model_name": "DescriptionStyleModel",
            "description_width": "",
            "_view_module": "@jupyter-widgets/base",
            "_model_module_version": "1.5.0",
            "_view_count": null,
            "_view_module_version": "1.2.0",
            "_model_module": "@jupyter-widgets/controls"
          }
        },
        "6d22a324fda4496292cc2188c916c4d1": {
          "model_module": "@jupyter-widgets/base",
          "model_name": "LayoutModel",
          "model_module_version": "1.2.0",
          "state": {
            "_view_name": "LayoutView",
            "grid_template_rows": null,
            "right": null,
            "justify_content": null,
            "_view_module": "@jupyter-widgets/base",
            "overflow": null,
            "_model_module_version": "1.2.0",
            "_view_count": null,
            "flex_flow": null,
            "width": null,
            "min_width": null,
            "border": null,
            "align_items": null,
            "bottom": null,
            "_model_module": "@jupyter-widgets/base",
            "top": null,
            "grid_column": null,
            "overflow_y": null,
            "overflow_x": null,
            "grid_auto_flow": null,
            "grid_area": null,
            "grid_template_columns": null,
            "flex": null,
            "_model_name": "LayoutModel",
            "justify_items": null,
            "grid_row": null,
            "max_height": null,
            "align_content": null,
            "visibility": null,
            "align_self": null,
            "height": null,
            "min_height": null,
            "padding": null,
            "grid_auto_rows": null,
            "grid_gap": null,
            "max_width": null,
            "order": null,
            "_view_module_version": "1.2.0",
            "grid_template_areas": null,
            "object_position": null,
            "object_fit": null,
            "grid_auto_columns": null,
            "margin": null,
            "display": null,
            "left": null
          }
        },
        "b9283cf1ef574ca8b16fa345958408de": {
          "model_module": "@jupyter-widgets/controls",
          "model_name": "ProgressStyleModel",
          "model_module_version": "1.5.0",
          "state": {
            "_view_name": "StyleView",
            "_model_name": "ProgressStyleModel",
            "description_width": "",
            "_view_module": "@jupyter-widgets/base",
            "_model_module_version": "1.5.0",
            "_view_count": null,
            "_view_module_version": "1.2.0",
            "bar_color": null,
            "_model_module": "@jupyter-widgets/controls"
          }
        },
        "97bf534353bb46e88ed96c27b8551cf1": {
          "model_module": "@jupyter-widgets/base",
          "model_name": "LayoutModel",
          "model_module_version": "1.2.0",
          "state": {
            "_view_name": "LayoutView",
            "grid_template_rows": null,
            "right": null,
            "justify_content": null,
            "_view_module": "@jupyter-widgets/base",
            "overflow": null,
            "_model_module_version": "1.2.0",
            "_view_count": null,
            "flex_flow": null,
            "width": null,
            "min_width": null,
            "border": null,
            "align_items": null,
            "bottom": null,
            "_model_module": "@jupyter-widgets/base",
            "top": null,
            "grid_column": null,
            "overflow_y": null,
            "overflow_x": null,
            "grid_auto_flow": null,
            "grid_area": null,
            "grid_template_columns": null,
            "flex": null,
            "_model_name": "LayoutModel",
            "justify_items": null,
            "grid_row": null,
            "max_height": null,
            "align_content": null,
            "visibility": null,
            "align_self": null,
            "height": null,
            "min_height": null,
            "padding": null,
            "grid_auto_rows": null,
            "grid_gap": null,
            "max_width": null,
            "order": null,
            "_view_module_version": "1.2.0",
            "grid_template_areas": null,
            "object_position": null,
            "object_fit": null,
            "grid_auto_columns": null,
            "margin": null,
            "display": null,
            "left": null
          }
        },
        "98f1813e1faa4a3ab7a73ae2a8800bad": {
          "model_module": "@jupyter-widgets/controls",
          "model_name": "DescriptionStyleModel",
          "model_module_version": "1.5.0",
          "state": {
            "_view_name": "StyleView",
            "_model_name": "DescriptionStyleModel",
            "description_width": "",
            "_view_module": "@jupyter-widgets/base",
            "_model_module_version": "1.5.0",
            "_view_count": null,
            "_view_module_version": "1.2.0",
            "_model_module": "@jupyter-widgets/controls"
          }
        },
        "0c50feb7a2584aa7bee67dd983254f67": {
          "model_module": "@jupyter-widgets/base",
          "model_name": "LayoutModel",
          "model_module_version": "1.2.0",
          "state": {
            "_view_name": "LayoutView",
            "grid_template_rows": null,
            "right": null,
            "justify_content": null,
            "_view_module": "@jupyter-widgets/base",
            "overflow": null,
            "_model_module_version": "1.2.0",
            "_view_count": null,
            "flex_flow": null,
            "width": null,
            "min_width": null,
            "border": null,
            "align_items": null,
            "bottom": null,
            "_model_module": "@jupyter-widgets/base",
            "top": null,
            "grid_column": null,
            "overflow_y": null,
            "overflow_x": null,
            "grid_auto_flow": null,
            "grid_area": null,
            "grid_template_columns": null,
            "flex": null,
            "_model_name": "LayoutModel",
            "justify_items": null,
            "grid_row": null,
            "max_height": null,
            "align_content": null,
            "visibility": null,
            "align_self": null,
            "height": null,
            "min_height": null,
            "padding": null,
            "grid_auto_rows": null,
            "grid_gap": null,
            "max_width": null,
            "order": null,
            "_view_module_version": "1.2.0",
            "grid_template_areas": null,
            "object_position": null,
            "object_fit": null,
            "grid_auto_columns": null,
            "margin": null,
            "display": null,
            "left": null
          }
        },
        "c798e226a9674b17bc90af49febaf284": {
          "model_module": "@jupyter-widgets/controls",
          "model_name": "HBoxModel",
          "model_module_version": "1.5.0",
          "state": {
            "_view_name": "HBoxView",
            "_dom_classes": [],
            "_model_name": "HBoxModel",
            "_view_module": "@jupyter-widgets/controls",
            "_model_module_version": "1.5.0",
            "_view_count": null,
            "_view_module_version": "1.5.0",
            "box_style": "",
            "layout": "IPY_MODEL_77a600d7d0254fb084fe662873b8d2e7",
            "_model_module": "@jupyter-widgets/controls",
            "children": [
              "IPY_MODEL_0fc4fed86ac2436891bd563f2edfb2d5",
              "IPY_MODEL_46bff8b3e8784e22880b3732e31a292e",
              "IPY_MODEL_49e0f456caff4b829b587c061b1b6913"
            ]
          }
        },
        "77a600d7d0254fb084fe662873b8d2e7": {
          "model_module": "@jupyter-widgets/base",
          "model_name": "LayoutModel",
          "model_module_version": "1.2.0",
          "state": {
            "_view_name": "LayoutView",
            "grid_template_rows": null,
            "right": null,
            "justify_content": null,
            "_view_module": "@jupyter-widgets/base",
            "overflow": null,
            "_model_module_version": "1.2.0",
            "_view_count": null,
            "flex_flow": null,
            "width": null,
            "min_width": null,
            "border": null,
            "align_items": null,
            "bottom": null,
            "_model_module": "@jupyter-widgets/base",
            "top": null,
            "grid_column": null,
            "overflow_y": null,
            "overflow_x": null,
            "grid_auto_flow": null,
            "grid_area": null,
            "grid_template_columns": null,
            "flex": null,
            "_model_name": "LayoutModel",
            "justify_items": null,
            "grid_row": null,
            "max_height": null,
            "align_content": null,
            "visibility": null,
            "align_self": null,
            "height": null,
            "min_height": null,
            "padding": null,
            "grid_auto_rows": null,
            "grid_gap": null,
            "max_width": null,
            "order": null,
            "_view_module_version": "1.2.0",
            "grid_template_areas": null,
            "object_position": null,
            "object_fit": null,
            "grid_auto_columns": null,
            "margin": null,
            "display": null,
            "left": null
          }
        },
        "0fc4fed86ac2436891bd563f2edfb2d5": {
          "model_module": "@jupyter-widgets/controls",
          "model_name": "HTMLModel",
          "model_module_version": "1.5.0",
          "state": {
            "_view_name": "HTMLView",
            "style": "IPY_MODEL_e5aa8386772d493b8b5cbbc049404d99",
            "_dom_classes": [],
            "description": "",
            "_model_name": "HTMLModel",
            "placeholder": "​",
            "_view_module": "@jupyter-widgets/controls",
            "_model_module_version": "1.5.0",
            "value": "100%",
            "_view_count": null,
            "_view_module_version": "1.5.0",
            "description_tooltip": null,
            "_model_module": "@jupyter-widgets/controls",
            "layout": "IPY_MODEL_477b96ebea914100aa0b254bcb6d895b"
          }
        },
        "46bff8b3e8784e22880b3732e31a292e": {
          "model_module": "@jupyter-widgets/controls",
          "model_name": "FloatProgressModel",
          "model_module_version": "1.5.0",
          "state": {
            "_view_name": "ProgressView",
            "style": "IPY_MODEL_9ddf54177b7843cea2bbe25b55e02be2",
            "_dom_classes": [],
            "description": "",
            "_model_name": "FloatProgressModel",
            "bar_style": "success",
            "max": 30490,
            "_view_module": "@jupyter-widgets/controls",
            "_model_module_version": "1.5.0",
            "value": 30490,
            "_view_count": null,
            "_view_module_version": "1.5.0",
            "orientation": "horizontal",
            "min": 0,
            "description_tooltip": null,
            "_model_module": "@jupyter-widgets/controls",
            "layout": "IPY_MODEL_7c29aa5b9b9e448d9005f2ed0e947c8d"
          }
        },
        "49e0f456caff4b829b587c061b1b6913": {
          "model_module": "@jupyter-widgets/controls",
          "model_name": "HTMLModel",
          "model_module_version": "1.5.0",
          "state": {
            "_view_name": "HTMLView",
            "style": "IPY_MODEL_3e044e7e28a4441a9aac3840d6227d25",
            "_dom_classes": [],
            "description": "",
            "_model_name": "HTMLModel",
            "placeholder": "​",
            "_view_module": "@jupyter-widgets/controls",
            "_model_module_version": "1.5.0",
            "value": " 30490/30490 [00:00&lt;00:00, 57122.06it/s]",
            "_view_count": null,
            "_view_module_version": "1.5.0",
            "description_tooltip": null,
            "_model_module": "@jupyter-widgets/controls",
            "layout": "IPY_MODEL_31bd7a1131704401b0746ee1b9eecc52"
          }
        },
        "e5aa8386772d493b8b5cbbc049404d99": {
          "model_module": "@jupyter-widgets/controls",
          "model_name": "DescriptionStyleModel",
          "model_module_version": "1.5.0",
          "state": {
            "_view_name": "StyleView",
            "_model_name": "DescriptionStyleModel",
            "description_width": "",
            "_view_module": "@jupyter-widgets/base",
            "_model_module_version": "1.5.0",
            "_view_count": null,
            "_view_module_version": "1.2.0",
            "_model_module": "@jupyter-widgets/controls"
          }
        },
        "477b96ebea914100aa0b254bcb6d895b": {
          "model_module": "@jupyter-widgets/base",
          "model_name": "LayoutModel",
          "model_module_version": "1.2.0",
          "state": {
            "_view_name": "LayoutView",
            "grid_template_rows": null,
            "right": null,
            "justify_content": null,
            "_view_module": "@jupyter-widgets/base",
            "overflow": null,
            "_model_module_version": "1.2.0",
            "_view_count": null,
            "flex_flow": null,
            "width": null,
            "min_width": null,
            "border": null,
            "align_items": null,
            "bottom": null,
            "_model_module": "@jupyter-widgets/base",
            "top": null,
            "grid_column": null,
            "overflow_y": null,
            "overflow_x": null,
            "grid_auto_flow": null,
            "grid_area": null,
            "grid_template_columns": null,
            "flex": null,
            "_model_name": "LayoutModel",
            "justify_items": null,
            "grid_row": null,
            "max_height": null,
            "align_content": null,
            "visibility": null,
            "align_self": null,
            "height": null,
            "min_height": null,
            "padding": null,
            "grid_auto_rows": null,
            "grid_gap": null,
            "max_width": null,
            "order": null,
            "_view_module_version": "1.2.0",
            "grid_template_areas": null,
            "object_position": null,
            "object_fit": null,
            "grid_auto_columns": null,
            "margin": null,
            "display": null,
            "left": null
          }
        },
        "9ddf54177b7843cea2bbe25b55e02be2": {
          "model_module": "@jupyter-widgets/controls",
          "model_name": "ProgressStyleModel",
          "model_module_version": "1.5.0",
          "state": {
            "_view_name": "StyleView",
            "_model_name": "ProgressStyleModel",
            "description_width": "",
            "_view_module": "@jupyter-widgets/base",
            "_model_module_version": "1.5.0",
            "_view_count": null,
            "_view_module_version": "1.2.0",
            "bar_color": null,
            "_model_module": "@jupyter-widgets/controls"
          }
        },
        "7c29aa5b9b9e448d9005f2ed0e947c8d": {
          "model_module": "@jupyter-widgets/base",
          "model_name": "LayoutModel",
          "model_module_version": "1.2.0",
          "state": {
            "_view_name": "LayoutView",
            "grid_template_rows": null,
            "right": null,
            "justify_content": null,
            "_view_module": "@jupyter-widgets/base",
            "overflow": null,
            "_model_module_version": "1.2.0",
            "_view_count": null,
            "flex_flow": null,
            "width": null,
            "min_width": null,
            "border": null,
            "align_items": null,
            "bottom": null,
            "_model_module": "@jupyter-widgets/base",
            "top": null,
            "grid_column": null,
            "overflow_y": null,
            "overflow_x": null,
            "grid_auto_flow": null,
            "grid_area": null,
            "grid_template_columns": null,
            "flex": null,
            "_model_name": "LayoutModel",
            "justify_items": null,
            "grid_row": null,
            "max_height": null,
            "align_content": null,
            "visibility": null,
            "align_self": null,
            "height": null,
            "min_height": null,
            "padding": null,
            "grid_auto_rows": null,
            "grid_gap": null,
            "max_width": null,
            "order": null,
            "_view_module_version": "1.2.0",
            "grid_template_areas": null,
            "object_position": null,
            "object_fit": null,
            "grid_auto_columns": null,
            "margin": null,
            "display": null,
            "left": null
          }
        },
        "3e044e7e28a4441a9aac3840d6227d25": {
          "model_module": "@jupyter-widgets/controls",
          "model_name": "DescriptionStyleModel",
          "model_module_version": "1.5.0",
          "state": {
            "_view_name": "StyleView",
            "_model_name": "DescriptionStyleModel",
            "description_width": "",
            "_view_module": "@jupyter-widgets/base",
            "_model_module_version": "1.5.0",
            "_view_count": null,
            "_view_module_version": "1.2.0",
            "_model_module": "@jupyter-widgets/controls"
          }
        },
        "31bd7a1131704401b0746ee1b9eecc52": {
          "model_module": "@jupyter-widgets/base",
          "model_name": "LayoutModel",
          "model_module_version": "1.2.0",
          "state": {
            "_view_name": "LayoutView",
            "grid_template_rows": null,
            "right": null,
            "justify_content": null,
            "_view_module": "@jupyter-widgets/base",
            "overflow": null,
            "_model_module_version": "1.2.0",
            "_view_count": null,
            "flex_flow": null,
            "width": null,
            "min_width": null,
            "border": null,
            "align_items": null,
            "bottom": null,
            "_model_module": "@jupyter-widgets/base",
            "top": null,
            "grid_column": null,
            "overflow_y": null,
            "overflow_x": null,
            "grid_auto_flow": null,
            "grid_area": null,
            "grid_template_columns": null,
            "flex": null,
            "_model_name": "LayoutModel",
            "justify_items": null,
            "grid_row": null,
            "max_height": null,
            "align_content": null,
            "visibility": null,
            "align_self": null,
            "height": null,
            "min_height": null,
            "padding": null,
            "grid_auto_rows": null,
            "grid_gap": null,
            "max_width": null,
            "order": null,
            "_view_module_version": "1.2.0",
            "grid_template_areas": null,
            "object_position": null,
            "object_fit": null,
            "grid_auto_columns": null,
            "margin": null,
            "display": null,
            "left": null
          }
        },
        "8f39ac5b99234baab1e0488909bc4d86": {
          "model_module": "@jupyter-widgets/controls",
          "model_name": "HBoxModel",
          "model_module_version": "1.5.0",
          "state": {
            "_view_name": "HBoxView",
            "_dom_classes": [],
            "_model_name": "HBoxModel",
            "_view_module": "@jupyter-widgets/controls",
            "_model_module_version": "1.5.0",
            "_view_count": null,
            "_view_module_version": "1.5.0",
            "box_style": "",
            "layout": "IPY_MODEL_48bdd7a8e9714852aeaa50d55e1348ac",
            "_model_module": "@jupyter-widgets/controls",
            "children": [
              "IPY_MODEL_f553aa6cd1e749599a02446e04e66f36",
              "IPY_MODEL_3339eec084424a1fb7c5a04fabc29c5c",
              "IPY_MODEL_b61524c06b8e404eadae6e6305906d6d"
            ]
          }
        },
        "48bdd7a8e9714852aeaa50d55e1348ac": {
          "model_module": "@jupyter-widgets/base",
          "model_name": "LayoutModel",
          "model_module_version": "1.2.0",
          "state": {
            "_view_name": "LayoutView",
            "grid_template_rows": null,
            "right": null,
            "justify_content": null,
            "_view_module": "@jupyter-widgets/base",
            "overflow": null,
            "_model_module_version": "1.2.0",
            "_view_count": null,
            "flex_flow": null,
            "width": null,
            "min_width": null,
            "border": null,
            "align_items": null,
            "bottom": null,
            "_model_module": "@jupyter-widgets/base",
            "top": null,
            "grid_column": null,
            "overflow_y": null,
            "overflow_x": null,
            "grid_auto_flow": null,
            "grid_area": null,
            "grid_template_columns": null,
            "flex": null,
            "_model_name": "LayoutModel",
            "justify_items": null,
            "grid_row": null,
            "max_height": null,
            "align_content": null,
            "visibility": null,
            "align_self": null,
            "height": null,
            "min_height": null,
            "padding": null,
            "grid_auto_rows": null,
            "grid_gap": null,
            "max_width": null,
            "order": null,
            "_view_module_version": "1.2.0",
            "grid_template_areas": null,
            "object_position": null,
            "object_fit": null,
            "grid_auto_columns": null,
            "margin": null,
            "display": null,
            "left": null
          }
        },
        "f553aa6cd1e749599a02446e04e66f36": {
          "model_module": "@jupyter-widgets/controls",
          "model_name": "HTMLModel",
          "model_module_version": "1.5.0",
          "state": {
            "_view_name": "HTMLView",
            "style": "IPY_MODEL_2d8132a3fbb8499e89d16d6418acfbcd",
            "_dom_classes": [],
            "description": "",
            "_model_name": "HTMLModel",
            "placeholder": "​",
            "_view_module": "@jupyter-widgets/controls",
            "_model_module_version": "1.5.0",
            "value": "100%",
            "_view_count": null,
            "_view_module_version": "1.5.0",
            "description_tooltip": null,
            "_model_module": "@jupyter-widgets/controls",
            "layout": "IPY_MODEL_79b1e6a118024193bb1de0633071fa29"
          }
        },
        "3339eec084424a1fb7c5a04fabc29c5c": {
          "model_module": "@jupyter-widgets/controls",
          "model_name": "FloatProgressModel",
          "model_module_version": "1.5.0",
          "state": {
            "_view_name": "ProgressView",
            "style": "IPY_MODEL_6a085e71ca09433b8b70c5d166ed8e7f",
            "_dom_classes": [],
            "description": "",
            "_model_name": "FloatProgressModel",
            "bar_style": "success",
            "max": 10,
            "_view_module": "@jupyter-widgets/controls",
            "_model_module_version": "1.5.0",
            "value": 10,
            "_view_count": null,
            "_view_module_version": "1.5.0",
            "orientation": "horizontal",
            "min": 0,
            "description_tooltip": null,
            "_model_module": "@jupyter-widgets/controls",
            "layout": "IPY_MODEL_52bfbe1cd9fa41eeb1141d8724255b56"
          }
        },
        "b61524c06b8e404eadae6e6305906d6d": {
          "model_module": "@jupyter-widgets/controls",
          "model_name": "HTMLModel",
          "model_module_version": "1.5.0",
          "state": {
            "_view_name": "HTMLView",
            "style": "IPY_MODEL_3f07d7d1f6f44cf3838478189a4c46a4",
            "_dom_classes": [],
            "description": "",
            "_model_name": "HTMLModel",
            "placeholder": "​",
            "_view_module": "@jupyter-widgets/controls",
            "_model_module_version": "1.5.0",
            "value": " 10/10 [00:07&lt;00:00,  1.05s/it]",
            "_view_count": null,
            "_view_module_version": "1.5.0",
            "description_tooltip": null,
            "_model_module": "@jupyter-widgets/controls",
            "layout": "IPY_MODEL_8403d9de82bd4b15a84aaefbdf4f1e84"
          }
        },
        "2d8132a3fbb8499e89d16d6418acfbcd": {
          "model_module": "@jupyter-widgets/controls",
          "model_name": "DescriptionStyleModel",
          "model_module_version": "1.5.0",
          "state": {
            "_view_name": "StyleView",
            "_model_name": "DescriptionStyleModel",
            "description_width": "",
            "_view_module": "@jupyter-widgets/base",
            "_model_module_version": "1.5.0",
            "_view_count": null,
            "_view_module_version": "1.2.0",
            "_model_module": "@jupyter-widgets/controls"
          }
        },
        "79b1e6a118024193bb1de0633071fa29": {
          "model_module": "@jupyter-widgets/base",
          "model_name": "LayoutModel",
          "model_module_version": "1.2.0",
          "state": {
            "_view_name": "LayoutView",
            "grid_template_rows": null,
            "right": null,
            "justify_content": null,
            "_view_module": "@jupyter-widgets/base",
            "overflow": null,
            "_model_module_version": "1.2.0",
            "_view_count": null,
            "flex_flow": null,
            "width": null,
            "min_width": null,
            "border": null,
            "align_items": null,
            "bottom": null,
            "_model_module": "@jupyter-widgets/base",
            "top": null,
            "grid_column": null,
            "overflow_y": null,
            "overflow_x": null,
            "grid_auto_flow": null,
            "grid_area": null,
            "grid_template_columns": null,
            "flex": null,
            "_model_name": "LayoutModel",
            "justify_items": null,
            "grid_row": null,
            "max_height": null,
            "align_content": null,
            "visibility": null,
            "align_self": null,
            "height": null,
            "min_height": null,
            "padding": null,
            "grid_auto_rows": null,
            "grid_gap": null,
            "max_width": null,
            "order": null,
            "_view_module_version": "1.2.0",
            "grid_template_areas": null,
            "object_position": null,
            "object_fit": null,
            "grid_auto_columns": null,
            "margin": null,
            "display": null,
            "left": null
          }
        },
        "6a085e71ca09433b8b70c5d166ed8e7f": {
          "model_module": "@jupyter-widgets/controls",
          "model_name": "ProgressStyleModel",
          "model_module_version": "1.5.0",
          "state": {
            "_view_name": "StyleView",
            "_model_name": "ProgressStyleModel",
            "description_width": "",
            "_view_module": "@jupyter-widgets/base",
            "_model_module_version": "1.5.0",
            "_view_count": null,
            "_view_module_version": "1.2.0",
            "bar_color": null,
            "_model_module": "@jupyter-widgets/controls"
          }
        },
        "52bfbe1cd9fa41eeb1141d8724255b56": {
          "model_module": "@jupyter-widgets/base",
          "model_name": "LayoutModel",
          "model_module_version": "1.2.0",
          "state": {
            "_view_name": "LayoutView",
            "grid_template_rows": null,
            "right": null,
            "justify_content": null,
            "_view_module": "@jupyter-widgets/base",
            "overflow": null,
            "_model_module_version": "1.2.0",
            "_view_count": null,
            "flex_flow": null,
            "width": null,
            "min_width": null,
            "border": null,
            "align_items": null,
            "bottom": null,
            "_model_module": "@jupyter-widgets/base",
            "top": null,
            "grid_column": null,
            "overflow_y": null,
            "overflow_x": null,
            "grid_auto_flow": null,
            "grid_area": null,
            "grid_template_columns": null,
            "flex": null,
            "_model_name": "LayoutModel",
            "justify_items": null,
            "grid_row": null,
            "max_height": null,
            "align_content": null,
            "visibility": null,
            "align_self": null,
            "height": null,
            "min_height": null,
            "padding": null,
            "grid_auto_rows": null,
            "grid_gap": null,
            "max_width": null,
            "order": null,
            "_view_module_version": "1.2.0",
            "grid_template_areas": null,
            "object_position": null,
            "object_fit": null,
            "grid_auto_columns": null,
            "margin": null,
            "display": null,
            "left": null
          }
        },
        "3f07d7d1f6f44cf3838478189a4c46a4": {
          "model_module": "@jupyter-widgets/controls",
          "model_name": "DescriptionStyleModel",
          "model_module_version": "1.5.0",
          "state": {
            "_view_name": "StyleView",
            "_model_name": "DescriptionStyleModel",
            "description_width": "",
            "_view_module": "@jupyter-widgets/base",
            "_model_module_version": "1.5.0",
            "_view_count": null,
            "_view_module_version": "1.2.0",
            "_model_module": "@jupyter-widgets/controls"
          }
        },
        "8403d9de82bd4b15a84aaefbdf4f1e84": {
          "model_module": "@jupyter-widgets/base",
          "model_name": "LayoutModel",
          "model_module_version": "1.2.0",
          "state": {
            "_view_name": "LayoutView",
            "grid_template_rows": null,
            "right": null,
            "justify_content": null,
            "_view_module": "@jupyter-widgets/base",
            "overflow": null,
            "_model_module_version": "1.2.0",
            "_view_count": null,
            "flex_flow": null,
            "width": null,
            "min_width": null,
            "border": null,
            "align_items": null,
            "bottom": null,
            "_model_module": "@jupyter-widgets/base",
            "top": null,
            "grid_column": null,
            "overflow_y": null,
            "overflow_x": null,
            "grid_auto_flow": null,
            "grid_area": null,
            "grid_template_columns": null,
            "flex": null,
            "_model_name": "LayoutModel",
            "justify_items": null,
            "grid_row": null,
            "max_height": null,
            "align_content": null,
            "visibility": null,
            "align_self": null,
            "height": null,
            "min_height": null,
            "padding": null,
            "grid_auto_rows": null,
            "grid_gap": null,
            "max_width": null,
            "order": null,
            "_view_module_version": "1.2.0",
            "grid_template_areas": null,
            "object_position": null,
            "object_fit": null,
            "grid_auto_columns": null,
            "margin": null,
            "display": null,
            "left": null
          }
        },
        "8d40cec508a34a2b80bf020c56669447": {
          "model_module": "@jupyter-widgets/controls",
          "model_name": "HBoxModel",
          "model_module_version": "1.5.0",
          "state": {
            "_view_name": "HBoxView",
            "_dom_classes": [],
            "_model_name": "HBoxModel",
            "_view_module": "@jupyter-widgets/controls",
            "_model_module_version": "1.5.0",
            "_view_count": null,
            "_view_module_version": "1.5.0",
            "box_style": "",
            "layout": "IPY_MODEL_28c12b414c254957b236177c9432a298",
            "_model_module": "@jupyter-widgets/controls",
            "children": [
              "IPY_MODEL_cb1e0c83f2e14c1ba0783b7d86af32e0",
              "IPY_MODEL_410ac0b5c9904cd3a4b418607d4aa4f8",
              "IPY_MODEL_32f7c312646e4a02beab19943a33029c"
            ]
          }
        },
        "28c12b414c254957b236177c9432a298": {
          "model_module": "@jupyter-widgets/base",
          "model_name": "LayoutModel",
          "model_module_version": "1.2.0",
          "state": {
            "_view_name": "LayoutView",
            "grid_template_rows": null,
            "right": null,
            "justify_content": null,
            "_view_module": "@jupyter-widgets/base",
            "overflow": null,
            "_model_module_version": "1.2.0",
            "_view_count": null,
            "flex_flow": null,
            "width": null,
            "min_width": null,
            "border": null,
            "align_items": null,
            "bottom": null,
            "_model_module": "@jupyter-widgets/base",
            "top": null,
            "grid_column": null,
            "overflow_y": null,
            "overflow_x": null,
            "grid_auto_flow": null,
            "grid_area": null,
            "grid_template_columns": null,
            "flex": null,
            "_model_name": "LayoutModel",
            "justify_items": null,
            "grid_row": null,
            "max_height": null,
            "align_content": null,
            "visibility": null,
            "align_self": null,
            "height": null,
            "min_height": null,
            "padding": null,
            "grid_auto_rows": null,
            "grid_gap": null,
            "max_width": null,
            "order": null,
            "_view_module_version": "1.2.0",
            "grid_template_areas": null,
            "object_position": null,
            "object_fit": null,
            "grid_auto_columns": null,
            "margin": null,
            "display": null,
            "left": null
          }
        },
        "cb1e0c83f2e14c1ba0783b7d86af32e0": {
          "model_module": "@jupyter-widgets/controls",
          "model_name": "HTMLModel",
          "model_module_version": "1.5.0",
          "state": {
            "_view_name": "HTMLView",
            "style": "IPY_MODEL_e76d9db17cd944fe9d51428b3b86659e",
            "_dom_classes": [],
            "description": "",
            "_model_name": "HTMLModel",
            "placeholder": "​",
            "_view_module": "@jupyter-widgets/controls",
            "_model_module_version": "1.5.0",
            "value": "100%",
            "_view_count": null,
            "_view_module_version": "1.5.0",
            "description_tooltip": null,
            "_model_module": "@jupyter-widgets/controls",
            "layout": "IPY_MODEL_e063099e88934b38bbfd0e889d8664fb"
          }
        },
        "410ac0b5c9904cd3a4b418607d4aa4f8": {
          "model_module": "@jupyter-widgets/controls",
          "model_name": "FloatProgressModel",
          "model_module_version": "1.5.0",
          "state": {
            "_view_name": "ProgressView",
            "style": "IPY_MODEL_e95926c79a844a7eae9a41af6ca7e161",
            "_dom_classes": [],
            "description": "",
            "_model_name": "FloatProgressModel",
            "bar_style": "success",
            "max": 10,
            "_view_module": "@jupyter-widgets/controls",
            "_model_module_version": "1.5.0",
            "value": 10,
            "_view_count": null,
            "_view_module_version": "1.5.0",
            "orientation": "horizontal",
            "min": 0,
            "description_tooltip": null,
            "_model_module": "@jupyter-widgets/controls",
            "layout": "IPY_MODEL_cbfbc4a591e24cc2a75f6e400a4c3302"
          }
        },
        "32f7c312646e4a02beab19943a33029c": {
          "model_module": "@jupyter-widgets/controls",
          "model_name": "HTMLModel",
          "model_module_version": "1.5.0",
          "state": {
            "_view_name": "HTMLView",
            "style": "IPY_MODEL_c791c95d7f314c5597994619b66b3641",
            "_dom_classes": [],
            "description": "",
            "_model_name": "HTMLModel",
            "placeholder": "​",
            "_view_module": "@jupyter-widgets/controls",
            "_model_module_version": "1.5.0",
            "value": " 10/10 [00:09&lt;00:00,  1.30s/it]",
            "_view_count": null,
            "_view_module_version": "1.5.0",
            "description_tooltip": null,
            "_model_module": "@jupyter-widgets/controls",
            "layout": "IPY_MODEL_d02089d91b60400890c8f1fca1fde0b6"
          }
        },
        "e76d9db17cd944fe9d51428b3b86659e": {
          "model_module": "@jupyter-widgets/controls",
          "model_name": "DescriptionStyleModel",
          "model_module_version": "1.5.0",
          "state": {
            "_view_name": "StyleView",
            "_model_name": "DescriptionStyleModel",
            "description_width": "",
            "_view_module": "@jupyter-widgets/base",
            "_model_module_version": "1.5.0",
            "_view_count": null,
            "_view_module_version": "1.2.0",
            "_model_module": "@jupyter-widgets/controls"
          }
        },
        "e063099e88934b38bbfd0e889d8664fb": {
          "model_module": "@jupyter-widgets/base",
          "model_name": "LayoutModel",
          "model_module_version": "1.2.0",
          "state": {
            "_view_name": "LayoutView",
            "grid_template_rows": null,
            "right": null,
            "justify_content": null,
            "_view_module": "@jupyter-widgets/base",
            "overflow": null,
            "_model_module_version": "1.2.0",
            "_view_count": null,
            "flex_flow": null,
            "width": null,
            "min_width": null,
            "border": null,
            "align_items": null,
            "bottom": null,
            "_model_module": "@jupyter-widgets/base",
            "top": null,
            "grid_column": null,
            "overflow_y": null,
            "overflow_x": null,
            "grid_auto_flow": null,
            "grid_area": null,
            "grid_template_columns": null,
            "flex": null,
            "_model_name": "LayoutModel",
            "justify_items": null,
            "grid_row": null,
            "max_height": null,
            "align_content": null,
            "visibility": null,
            "align_self": null,
            "height": null,
            "min_height": null,
            "padding": null,
            "grid_auto_rows": null,
            "grid_gap": null,
            "max_width": null,
            "order": null,
            "_view_module_version": "1.2.0",
            "grid_template_areas": null,
            "object_position": null,
            "object_fit": null,
            "grid_auto_columns": null,
            "margin": null,
            "display": null,
            "left": null
          }
        },
        "e95926c79a844a7eae9a41af6ca7e161": {
          "model_module": "@jupyter-widgets/controls",
          "model_name": "ProgressStyleModel",
          "model_module_version": "1.5.0",
          "state": {
            "_view_name": "StyleView",
            "_model_name": "ProgressStyleModel",
            "description_width": "",
            "_view_module": "@jupyter-widgets/base",
            "_model_module_version": "1.5.0",
            "_view_count": null,
            "_view_module_version": "1.2.0",
            "bar_color": null,
            "_model_module": "@jupyter-widgets/controls"
          }
        },
        "cbfbc4a591e24cc2a75f6e400a4c3302": {
          "model_module": "@jupyter-widgets/base",
          "model_name": "LayoutModel",
          "model_module_version": "1.2.0",
          "state": {
            "_view_name": "LayoutView",
            "grid_template_rows": null,
            "right": null,
            "justify_content": null,
            "_view_module": "@jupyter-widgets/base",
            "overflow": null,
            "_model_module_version": "1.2.0",
            "_view_count": null,
            "flex_flow": null,
            "width": null,
            "min_width": null,
            "border": null,
            "align_items": null,
            "bottom": null,
            "_model_module": "@jupyter-widgets/base",
            "top": null,
            "grid_column": null,
            "overflow_y": null,
            "overflow_x": null,
            "grid_auto_flow": null,
            "grid_area": null,
            "grid_template_columns": null,
            "flex": null,
            "_model_name": "LayoutModel",
            "justify_items": null,
            "grid_row": null,
            "max_height": null,
            "align_content": null,
            "visibility": null,
            "align_self": null,
            "height": null,
            "min_height": null,
            "padding": null,
            "grid_auto_rows": null,
            "grid_gap": null,
            "max_width": null,
            "order": null,
            "_view_module_version": "1.2.0",
            "grid_template_areas": null,
            "object_position": null,
            "object_fit": null,
            "grid_auto_columns": null,
            "margin": null,
            "display": null,
            "left": null
          }
        },
        "c791c95d7f314c5597994619b66b3641": {
          "model_module": "@jupyter-widgets/controls",
          "model_name": "DescriptionStyleModel",
          "model_module_version": "1.5.0",
          "state": {
            "_view_name": "StyleView",
            "_model_name": "DescriptionStyleModel",
            "description_width": "",
            "_view_module": "@jupyter-widgets/base",
            "_model_module_version": "1.5.0",
            "_view_count": null,
            "_view_module_version": "1.2.0",
            "_model_module": "@jupyter-widgets/controls"
          }
        },
        "d02089d91b60400890c8f1fca1fde0b6": {
          "model_module": "@jupyter-widgets/base",
          "model_name": "LayoutModel",
          "model_module_version": "1.2.0",
          "state": {
            "_view_name": "LayoutView",
            "grid_template_rows": null,
            "right": null,
            "justify_content": null,
            "_view_module": "@jupyter-widgets/base",
            "overflow": null,
            "_model_module_version": "1.2.0",
            "_view_count": null,
            "flex_flow": null,
            "width": null,
            "min_width": null,
            "border": null,
            "align_items": null,
            "bottom": null,
            "_model_module": "@jupyter-widgets/base",
            "top": null,
            "grid_column": null,
            "overflow_y": null,
            "overflow_x": null,
            "grid_auto_flow": null,
            "grid_area": null,
            "grid_template_columns": null,
            "flex": null,
            "_model_name": "LayoutModel",
            "justify_items": null,
            "grid_row": null,
            "max_height": null,
            "align_content": null,
            "visibility": null,
            "align_self": null,
            "height": null,
            "min_height": null,
            "padding": null,
            "grid_auto_rows": null,
            "grid_gap": null,
            "max_width": null,
            "order": null,
            "_view_module_version": "1.2.0",
            "grid_template_areas": null,
            "object_position": null,
            "object_fit": null,
            "grid_auto_columns": null,
            "margin": null,
            "display": null,
            "left": null
          }
        },
        "1ccd2820ec4542bd95f462d80f88b362": {
          "model_module": "@jupyter-widgets/controls",
          "model_name": "HBoxModel",
          "model_module_version": "1.5.0",
          "state": {
            "_view_name": "HBoxView",
            "_dom_classes": [],
            "_model_name": "HBoxModel",
            "_view_module": "@jupyter-widgets/controls",
            "_model_module_version": "1.5.0",
            "_view_count": null,
            "_view_module_version": "1.5.0",
            "box_style": "",
            "layout": "IPY_MODEL_0748dbd8d11b4706a5afd03582afa363",
            "_model_module": "@jupyter-widgets/controls",
            "children": [
              "IPY_MODEL_7f8d0bd9101b48d58849dbd1ee39eaec",
              "IPY_MODEL_be63117c0e344628a1c55bc30ec134f5",
              "IPY_MODEL_8c6364e977a64f3a8c443865887e4319"
            ]
          }
        },
        "0748dbd8d11b4706a5afd03582afa363": {
          "model_module": "@jupyter-widgets/base",
          "model_name": "LayoutModel",
          "model_module_version": "1.2.0",
          "state": {
            "_view_name": "LayoutView",
            "grid_template_rows": null,
            "right": null,
            "justify_content": null,
            "_view_module": "@jupyter-widgets/base",
            "overflow": null,
            "_model_module_version": "1.2.0",
            "_view_count": null,
            "flex_flow": null,
            "width": null,
            "min_width": null,
            "border": null,
            "align_items": null,
            "bottom": null,
            "_model_module": "@jupyter-widgets/base",
            "top": null,
            "grid_column": null,
            "overflow_y": null,
            "overflow_x": null,
            "grid_auto_flow": null,
            "grid_area": null,
            "grid_template_columns": null,
            "flex": null,
            "_model_name": "LayoutModel",
            "justify_items": null,
            "grid_row": null,
            "max_height": null,
            "align_content": null,
            "visibility": null,
            "align_self": null,
            "height": null,
            "min_height": null,
            "padding": null,
            "grid_auto_rows": null,
            "grid_gap": null,
            "max_width": null,
            "order": null,
            "_view_module_version": "1.2.0",
            "grid_template_areas": null,
            "object_position": null,
            "object_fit": null,
            "grid_auto_columns": null,
            "margin": null,
            "display": null,
            "left": null
          }
        },
        "7f8d0bd9101b48d58849dbd1ee39eaec": {
          "model_module": "@jupyter-widgets/controls",
          "model_name": "HTMLModel",
          "model_module_version": "1.5.0",
          "state": {
            "_view_name": "HTMLView",
            "style": "IPY_MODEL_3eb8017d824446f39bf260e40ab9893e",
            "_dom_classes": [],
            "description": "",
            "_model_name": "HTMLModel",
            "placeholder": "​",
            "_view_module": "@jupyter-widgets/controls",
            "_model_module_version": "1.5.0",
            "value": "100%",
            "_view_count": null,
            "_view_module_version": "1.5.0",
            "description_tooltip": null,
            "_model_module": "@jupyter-widgets/controls",
            "layout": "IPY_MODEL_49f53c57c4e34c50bef6161cb26a2adb"
          }
        },
        "be63117c0e344628a1c55bc30ec134f5": {
          "model_module": "@jupyter-widgets/controls",
          "model_name": "FloatProgressModel",
          "model_module_version": "1.5.0",
          "state": {
            "_view_name": "ProgressView",
            "style": "IPY_MODEL_72633c9b557e4120b5e5b7a2db1ecbf3",
            "_dom_classes": [],
            "description": "",
            "_model_name": "FloatProgressModel",
            "bar_style": "success",
            "max": 9,
            "_view_module": "@jupyter-widgets/controls",
            "_model_module_version": "1.5.0",
            "value": 9,
            "_view_count": null,
            "_view_module_version": "1.5.0",
            "orientation": "horizontal",
            "min": 0,
            "description_tooltip": null,
            "_model_module": "@jupyter-widgets/controls",
            "layout": "IPY_MODEL_d29ae16955394560aecbf18a5665467f"
          }
        },
        "8c6364e977a64f3a8c443865887e4319": {
          "model_module": "@jupyter-widgets/controls",
          "model_name": "HTMLModel",
          "model_module_version": "1.5.0",
          "state": {
            "_view_name": "HTMLView",
            "style": "IPY_MODEL_adc6625578ab4378ab3c4b70f51bc64c",
            "_dom_classes": [],
            "description": "",
            "_model_name": "HTMLModel",
            "placeholder": "​",
            "_view_module": "@jupyter-widgets/controls",
            "_model_module_version": "1.5.0",
            "value": " 9/9 [00:16&lt;00:00,  2.49s/it]",
            "_view_count": null,
            "_view_module_version": "1.5.0",
            "description_tooltip": null,
            "_model_module": "@jupyter-widgets/controls",
            "layout": "IPY_MODEL_cb267ce287134784b55abfe53aebfaa2"
          }
        },
        "3eb8017d824446f39bf260e40ab9893e": {
          "model_module": "@jupyter-widgets/controls",
          "model_name": "DescriptionStyleModel",
          "model_module_version": "1.5.0",
          "state": {
            "_view_name": "StyleView",
            "_model_name": "DescriptionStyleModel",
            "description_width": "",
            "_view_module": "@jupyter-widgets/base",
            "_model_module_version": "1.5.0",
            "_view_count": null,
            "_view_module_version": "1.2.0",
            "_model_module": "@jupyter-widgets/controls"
          }
        },
        "49f53c57c4e34c50bef6161cb26a2adb": {
          "model_module": "@jupyter-widgets/base",
          "model_name": "LayoutModel",
          "model_module_version": "1.2.0",
          "state": {
            "_view_name": "LayoutView",
            "grid_template_rows": null,
            "right": null,
            "justify_content": null,
            "_view_module": "@jupyter-widgets/base",
            "overflow": null,
            "_model_module_version": "1.2.0",
            "_view_count": null,
            "flex_flow": null,
            "width": null,
            "min_width": null,
            "border": null,
            "align_items": null,
            "bottom": null,
            "_model_module": "@jupyter-widgets/base",
            "top": null,
            "grid_column": null,
            "overflow_y": null,
            "overflow_x": null,
            "grid_auto_flow": null,
            "grid_area": null,
            "grid_template_columns": null,
            "flex": null,
            "_model_name": "LayoutModel",
            "justify_items": null,
            "grid_row": null,
            "max_height": null,
            "align_content": null,
            "visibility": null,
            "align_self": null,
            "height": null,
            "min_height": null,
            "padding": null,
            "grid_auto_rows": null,
            "grid_gap": null,
            "max_width": null,
            "order": null,
            "_view_module_version": "1.2.0",
            "grid_template_areas": null,
            "object_position": null,
            "object_fit": null,
            "grid_auto_columns": null,
            "margin": null,
            "display": null,
            "left": null
          }
        },
        "72633c9b557e4120b5e5b7a2db1ecbf3": {
          "model_module": "@jupyter-widgets/controls",
          "model_name": "ProgressStyleModel",
          "model_module_version": "1.5.0",
          "state": {
            "_view_name": "StyleView",
            "_model_name": "ProgressStyleModel",
            "description_width": "",
            "_view_module": "@jupyter-widgets/base",
            "_model_module_version": "1.5.0",
            "_view_count": null,
            "_view_module_version": "1.2.0",
            "bar_color": null,
            "_model_module": "@jupyter-widgets/controls"
          }
        },
        "d29ae16955394560aecbf18a5665467f": {
          "model_module": "@jupyter-widgets/base",
          "model_name": "LayoutModel",
          "model_module_version": "1.2.0",
          "state": {
            "_view_name": "LayoutView",
            "grid_template_rows": null,
            "right": null,
            "justify_content": null,
            "_view_module": "@jupyter-widgets/base",
            "overflow": null,
            "_model_module_version": "1.2.0",
            "_view_count": null,
            "flex_flow": null,
            "width": null,
            "min_width": null,
            "border": null,
            "align_items": null,
            "bottom": null,
            "_model_module": "@jupyter-widgets/base",
            "top": null,
            "grid_column": null,
            "overflow_y": null,
            "overflow_x": null,
            "grid_auto_flow": null,
            "grid_area": null,
            "grid_template_columns": null,
            "flex": null,
            "_model_name": "LayoutModel",
            "justify_items": null,
            "grid_row": null,
            "max_height": null,
            "align_content": null,
            "visibility": null,
            "align_self": null,
            "height": null,
            "min_height": null,
            "padding": null,
            "grid_auto_rows": null,
            "grid_gap": null,
            "max_width": null,
            "order": null,
            "_view_module_version": "1.2.0",
            "grid_template_areas": null,
            "object_position": null,
            "object_fit": null,
            "grid_auto_columns": null,
            "margin": null,
            "display": null,
            "left": null
          }
        },
        "adc6625578ab4378ab3c4b70f51bc64c": {
          "model_module": "@jupyter-widgets/controls",
          "model_name": "DescriptionStyleModel",
          "model_module_version": "1.5.0",
          "state": {
            "_view_name": "StyleView",
            "_model_name": "DescriptionStyleModel",
            "description_width": "",
            "_view_module": "@jupyter-widgets/base",
            "_model_module_version": "1.5.0",
            "_view_count": null,
            "_view_module_version": "1.2.0",
            "_model_module": "@jupyter-widgets/controls"
          }
        },
        "cb267ce287134784b55abfe53aebfaa2": {
          "model_module": "@jupyter-widgets/base",
          "model_name": "LayoutModel",
          "model_module_version": "1.2.0",
          "state": {
            "_view_name": "LayoutView",
            "grid_template_rows": null,
            "right": null,
            "justify_content": null,
            "_view_module": "@jupyter-widgets/base",
            "overflow": null,
            "_model_module_version": "1.2.0",
            "_view_count": null,
            "flex_flow": null,
            "width": null,
            "min_width": null,
            "border": null,
            "align_items": null,
            "bottom": null,
            "_model_module": "@jupyter-widgets/base",
            "top": null,
            "grid_column": null,
            "overflow_y": null,
            "overflow_x": null,
            "grid_auto_flow": null,
            "grid_area": null,
            "grid_template_columns": null,
            "flex": null,
            "_model_name": "LayoutModel",
            "justify_items": null,
            "grid_row": null,
            "max_height": null,
            "align_content": null,
            "visibility": null,
            "align_self": null,
            "height": null,
            "min_height": null,
            "padding": null,
            "grid_auto_rows": null,
            "grid_gap": null,
            "max_width": null,
            "order": null,
            "_view_module_version": "1.2.0",
            "grid_template_areas": null,
            "object_position": null,
            "object_fit": null,
            "grid_auto_columns": null,
            "margin": null,
            "display": null,
            "left": null
          }
        }
      }
    }
  },
  "cells": [
    {
      "cell_type": "markdown",
      "metadata": {
        "id": "view-in-github",
        "colab_type": "text"
      },
      "source": [
        "<a href=\"https://colab.research.google.com/github/poojagpta/releases/blob/master/m5_forecasting_project/walmart_naive_model.ipynb\" target=\"_parent\"><img src=\"https://colab.research.google.com/assets/colab-badge.svg\" alt=\"Open In Colab\"/></a>"
      ]
    },
    {
      "cell_type": "code",
      "metadata": {
        "id": "j_LhM7Wf0DO1",
        "colab": {
          "base_uri": "https://localhost:8080/"
        },
        "outputId": "67d575ec-ff72-47c6-af68-75f4418a152e"
      },
      "source": [
        "import pandas as pd\n",
        "import numpy as np\n",
        "import matplotlib.pyplot as plt\n",
        "%matplotlib inline\n",
        "import seaborn as sns\n",
        "import statsmodels.api as sm\n",
        "pd.pandas.set_option(\"display.max_columns\",None)\n",
        "sns.set()\n",
        "from tqdm.notebook import tqdm"
      ],
      "execution_count": 1,
      "outputs": [
        {
          "output_type": "stream",
          "name": "stderr",
          "text": [
            "/usr/local/lib/python3.7/dist-packages/statsmodels/tools/_testing.py:19: FutureWarning: pandas.util.testing is deprecated. Use the functions in the public API at pandas.testing instead.\n",
            "  import pandas.util.testing as tm\n"
          ]
        }
      ]
    },
    {
      "cell_type": "code",
      "metadata": {
        "id": "wnH1uqz00MY0"
      },
      "source": [
        "cal_df=pd.read_csv(\"/content/drive/MyDrive/Colab Notebooks/data/m5-forecasting-accuracy/calendar.csv\")\n",
        "df= pd.read_csv(\"/content/drive/MyDrive/Colab Notebooks/data/m5-forecasting-accuracy/sales_train_validation.csv\")\n",
        "price_df = pd.read_csv(\"/content/drive/MyDrive/Colab Notebooks/data/m5-forecasting-accuracy/sell_prices.csv\")"
      ],
      "execution_count": 2,
      "outputs": []
    },
    {
      "cell_type": "code",
      "metadata": {
        "colab": {
          "base_uri": "https://localhost:8080/"
        },
        "id": "4o0s6G2D0gPu",
        "outputId": "f865df4d-12cc-45fd-a11e-14cb73aa36a0"
      },
      "source": [
        "price_df['store_id'].unique()"
      ],
      "execution_count": 3,
      "outputs": [
        {
          "output_type": "execute_result",
          "data": {
            "text/plain": [
              "array(['CA_1', 'CA_2', 'CA_3', 'CA_4', 'TX_1', 'TX_2', 'TX_3', 'WI_1',\n",
              "       'WI_2', 'WI_3'], dtype=object)"
            ]
          },
          "metadata": {},
          "execution_count": 3
        }
      ]
    },
    {
      "cell_type": "markdown",
      "metadata": {
        "id": "rOYRRx9h1i82"
      },
      "source": [
        "**The M5 dataset**, involves the unit sales of various products sold in the USA, organized in the form of grouped time series. More specifically, the dataset involves the unit sales of 3,049 products, classified in 3 product categories (Hobbies, Foods, and Household) and 7 product departments, in which the above-mentioned categories are disaggregated.  The products are sold across ten stores, located in three States (CA, TX, and WI)"
      ]
    },
    {
      "cell_type": "markdown",
      "metadata": {
        "id": "LRP6kJw51CXd"
      },
      "source": [
        "**Calculating the weight of the bottom series**\n",
        "Weight of each series will be computed based on the last 28 observations of the training sample of the dataset, i.e., the cumulative actual dollar sales that each series displayed in that particular period (sum of units sold multiplied by their respective price)\n"
      ]
    },
    {
      "cell_type": "code",
      "metadata": {
        "id": "w6aCpmGi0h2d"
      },
      "source": [
        "price_df['id'] = price_df['item_id']+'_'+price_df['store_id']+'_validation'\n",
        "cal_df['d'] = cal_df['d'].apply(lambda x: int(x.split(\"_\")[1]))"
      ],
      "execution_count": 4,
      "outputs": []
    },
    {
      "cell_type": "code",
      "metadata": {
        "colab": {
          "base_uri": "https://localhost:8080/",
          "height": 49,
          "referenced_widgets": [
            "fe380094a7694fd99c6736fe608bd3bd",
            "d7ab5332d64a448985c98c0e47888c48",
            "2170824728a944a5a44b0983da8c4f1c",
            "269c85f3dc694fd8b9345108996a5e44",
            "4601a074904d4058b0893707a7183d2e",
            "5ac0ed34e74b48c889dbbb5e04d2876d",
            "6d22a324fda4496292cc2188c916c4d1",
            "b9283cf1ef574ca8b16fa345958408de",
            "97bf534353bb46e88ed96c27b8551cf1",
            "98f1813e1faa4a3ab7a73ae2a8800bad",
            "0c50feb7a2584aa7bee67dd983254f67"
          ]
        },
        "id": "eF4xr30-2afr",
        "outputId": "606d474c-93f2-424a-afb0-ad93f1cfcac6"
      },
      "source": [
        "for day in tqdm(range(1858,1886)):\n",
        "    wk_id=list(cal_df[cal_df['d']==day]['wm_yr_wk'])[0]\n",
        "    wk_price_df = price_df[price_df['wm_yr_wk'] == wk_id]\n",
        "    df =df.merge(wk_price_df[[\"id\",\"sell_price\"]], on=\"id\",how=\"inner\")\n",
        "    df['unit_sale_'+ str(day)] = df[\"sell_price\"] * df['d_'+str(day)]\n",
        "    df.drop(columns=[\"sell_price\"], inplace=True)"
      ],
      "execution_count": 5,
      "outputs": [
        {
          "output_type": "display_data",
          "data": {
            "application/vnd.jupyter.widget-view+json": {
              "model_id": "fe380094a7694fd99c6736fe608bd3bd",
              "version_minor": 0,
              "version_major": 2
            },
            "text/plain": [
              "  0%|          | 0/28 [00:00<?, ?it/s]"
            ]
          },
          "metadata": {}
        }
      ]
    },
    {
      "cell_type": "code",
      "metadata": {
        "id": "OhQHR_bA06ZS"
      },
      "source": [
        "df['dollar_sales'] = df[[c for c in df.columns if c.find(\"unit_sale\")==0]].sum(axis=1)"
      ],
      "execution_count": 6,
      "outputs": []
    },
    {
      "cell_type": "code",
      "metadata": {
        "id": "2cz7EbHR2Mbc"
      },
      "source": [
        "df['weight'] = df['dollar_sales']/df['dollar_sales'].sum()"
      ],
      "execution_count": 7,
      "outputs": []
    },
    {
      "cell_type": "code",
      "metadata": {
        "colab": {
          "base_uri": "https://localhost:8080/"
        },
        "id": "UEl0Krxl2QXh",
        "outputId": "c274905f-8ada-4b09-d56c-be22f0348df1"
      },
      "source": [
        "df['weight'].sum()"
      ],
      "execution_count": 8,
      "outputs": [
        {
          "output_type": "execute_result",
          "data": {
            "text/plain": [
              "0.9999999999999999"
            ]
          },
          "metadata": {},
          "execution_count": 8
        }
      ]
    },
    {
      "cell_type": "code",
      "metadata": {
        "id": "71xG2LEK2_se"
      },
      "source": [
        "df.drop(columns=[\"dollar_sales\"], axis=1, inplace=True)"
      ],
      "execution_count": 9,
      "outputs": []
    },
    {
      "cell_type": "code",
      "metadata": {
        "id": "sMPLsPdnGOmD"
      },
      "source": [
        "df.to_csv('/content/drive/MyDrive/Colab Notebooks/data/m5-forecasting-accuracy/dataset.csv',sep=',')"
      ],
      "execution_count": null,
      "outputs": []
    },
    {
      "cell_type": "markdown",
      "metadata": {
        "id": "qHN__GRj39Pz"
      },
      "source": [
        "#Naive Forecast for all 12 series listed\n",
        "![image.png](data:image/png;base64,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)\n"
      ]
    },
    {
      "cell_type": "markdown",
      "metadata": {
        "id": "twO9DBMm5ET7"
      },
      "source": [
        "**Using bottom up approach**\n",
        "- Average through all history\n",
        "- Same as previous 28 days\n",
        "- Mean of previous 10,20,40 days"
      ]
    },
    {
      "cell_type": "code",
      "metadata": {
        "id": "m3lwNXxd3VZY"
      },
      "source": [
        "method_dict ={1: 'complete historical mean', \\\n",
        "              2: 'historical mean after first non zero sales', \\\n",
        "              3: 'Same as previous 28 days', \\\n",
        "              4: 'Mean of previous 10 days', \\\n",
        "              5: 'Mean of previous 20 days', \\\n",
        "              6: 'Mean of previous 40 days'\n",
        "             }"
      ],
      "execution_count": 10,
      "outputs": []
    },
    {
      "cell_type": "markdown",
      "metadata": {
        "id": "UtUOZBGB55_N"
      },
      "source": [
        "Complete Historical Mean"
      ]
    },
    {
      "cell_type": "code",
      "metadata": {
        "id": "x69me43i4kua"
      },
      "source": [
        "complete_historical_mean_df =\\\n",
        "    df[[c for c in df.columns if c.find(\"d_\")==0 and int(c.split(\"_\")[1]) <= 1885] +\\\n",
        "       [\"id\"]].set_index(\"id\").transpose().mean().reset_index()"
      ],
      "execution_count": 11,
      "outputs": []
    },
    {
      "cell_type": "code",
      "metadata": {
        "colab": {
          "base_uri": "https://localhost:8080/",
          "height": 424
        },
        "id": "F3jrXqQ05rLs",
        "outputId": "9316d2bf-164d-46a4-ecd2-4323123534df"
      },
      "source": [
        "complete_historical_mean_df\n"
      ],
      "execution_count": 12,
      "outputs": [
        {
          "output_type": "execute_result",
          "data": {
            "text/html": [
              "<div>\n",
              "<style scoped>\n",
              "    .dataframe tbody tr th:only-of-type {\n",
              "        vertical-align: middle;\n",
              "    }\n",
              "\n",
              "    .dataframe tbody tr th {\n",
              "        vertical-align: top;\n",
              "    }\n",
              "\n",
              "    .dataframe thead th {\n",
              "        text-align: right;\n",
              "    }\n",
              "</style>\n",
              "<table border=\"1\" class=\"dataframe\">\n",
              "  <thead>\n",
              "    <tr style=\"text-align: right;\">\n",
              "      <th></th>\n",
              "      <th>id</th>\n",
              "      <th>0</th>\n",
              "    </tr>\n",
              "  </thead>\n",
              "  <tbody>\n",
              "    <tr>\n",
              "      <th>0</th>\n",
              "      <td>HOBBIES_1_001_CA_1_validation</td>\n",
              "      <td>0.303979</td>\n",
              "    </tr>\n",
              "    <tr>\n",
              "      <th>1</th>\n",
              "      <td>HOBBIES_1_002_CA_1_validation</td>\n",
              "      <td>0.260477</td>\n",
              "    </tr>\n",
              "    <tr>\n",
              "      <th>2</th>\n",
              "      <td>HOBBIES_1_003_CA_1_validation</td>\n",
              "      <td>0.144297</td>\n",
              "    </tr>\n",
              "    <tr>\n",
              "      <th>3</th>\n",
              "      <td>HOBBIES_1_004_CA_1_validation</td>\n",
              "      <td>1.717241</td>\n",
              "    </tr>\n",
              "    <tr>\n",
              "      <th>4</th>\n",
              "      <td>HOBBIES_1_005_CA_1_validation</td>\n",
              "      <td>0.960743</td>\n",
              "    </tr>\n",
              "    <tr>\n",
              "      <th>...</th>\n",
              "      <td>...</td>\n",
              "      <td>...</td>\n",
              "    </tr>\n",
              "    <tr>\n",
              "      <th>30485</th>\n",
              "      <td>FOODS_3_823_WI_3_validation</td>\n",
              "      <td>0.538992</td>\n",
              "    </tr>\n",
              "    <tr>\n",
              "      <th>30486</th>\n",
              "      <td>FOODS_3_824_WI_3_validation</td>\n",
              "      <td>0.377188</td>\n",
              "    </tr>\n",
              "    <tr>\n",
              "      <th>30487</th>\n",
              "      <td>FOODS_3_825_WI_3_validation</td>\n",
              "      <td>0.894960</td>\n",
              "    </tr>\n",
              "    <tr>\n",
              "      <th>30488</th>\n",
              "      <td>FOODS_3_826_WI_3_validation</td>\n",
              "      <td>0.358621</td>\n",
              "    </tr>\n",
              "    <tr>\n",
              "      <th>30489</th>\n",
              "      <td>FOODS_3_827_WI_3_validation</td>\n",
              "      <td>0.689125</td>\n",
              "    </tr>\n",
              "  </tbody>\n",
              "</table>\n",
              "<p>30490 rows × 2 columns</p>\n",
              "</div>"
            ],
            "text/plain": [
              "                                  id         0\n",
              "0      HOBBIES_1_001_CA_1_validation  0.303979\n",
              "1      HOBBIES_1_002_CA_1_validation  0.260477\n",
              "2      HOBBIES_1_003_CA_1_validation  0.144297\n",
              "3      HOBBIES_1_004_CA_1_validation  1.717241\n",
              "4      HOBBIES_1_005_CA_1_validation  0.960743\n",
              "...                              ...       ...\n",
              "30485    FOODS_3_823_WI_3_validation  0.538992\n",
              "30486    FOODS_3_824_WI_3_validation  0.377188\n",
              "30487    FOODS_3_825_WI_3_validation  0.894960\n",
              "30488    FOODS_3_826_WI_3_validation  0.358621\n",
              "30489    FOODS_3_827_WI_3_validation  0.689125\n",
              "\n",
              "[30490 rows x 2 columns]"
            ]
          },
          "metadata": {},
          "execution_count": 12
        }
      ]
    },
    {
      "cell_type": "code",
      "metadata": {
        "id": "TEtDVGSJ51yM"
      },
      "source": [
        "for d in range(1,29):\n",
        "    df['F_1_'+ str(1885+d)] = list(complete_historical_mean_df[0])"
      ],
      "execution_count": 13,
      "outputs": []
    },
    {
      "cell_type": "code",
      "metadata": {
        "colab": {
          "base_uri": "https://localhost:8080/"
        },
        "id": "Ooo8VvYZ5_wZ",
        "outputId": "35909569-f5a7-44c0-85cb-dedf3b7bef97"
      },
      "source": [
        "df['F_1_1886']"
      ],
      "execution_count": 14,
      "outputs": [
        {
          "output_type": "execute_result",
          "data": {
            "text/plain": [
              "0        0.303979\n",
              "1        0.260477\n",
              "2        0.144297\n",
              "3        1.717241\n",
              "4        0.960743\n",
              "           ...   \n",
              "30485    0.538992\n",
              "30486    0.377188\n",
              "30487    0.894960\n",
              "30488    0.358621\n",
              "30489    0.689125\n",
              "Name: F_1_1886, Length: 30490, dtype: float64"
            ]
          },
          "metadata": {},
          "execution_count": 14
        }
      ]
    },
    {
      "cell_type": "markdown",
      "metadata": {
        "id": "nQZ6FBMt6MQ1"
      },
      "source": [
        "Historical mean after first non zero sales"
      ]
    },
    {
      "cell_type": "code",
      "metadata": {
        "id": "H9y6juty6Cv1"
      },
      "source": [
        "def find_first_non_0(s):\n",
        "    assert type(s) == np.ndarray\n",
        "    return (s!=0).argmax(axis=0)"
      ],
      "execution_count": 15,
      "outputs": []
    },
    {
      "cell_type": "code",
      "metadata": {
        "colab": {
          "base_uri": "https://localhost:8080/",
          "height": 49,
          "referenced_widgets": [
            "c798e226a9674b17bc90af49febaf284",
            "77a600d7d0254fb084fe662873b8d2e7",
            "0fc4fed86ac2436891bd563f2edfb2d5",
            "46bff8b3e8784e22880b3732e31a292e",
            "49e0f456caff4b829b587c061b1b6913",
            "e5aa8386772d493b8b5cbbc049404d99",
            "477b96ebea914100aa0b254bcb6d895b",
            "9ddf54177b7843cea2bbe25b55e02be2",
            "7c29aa5b9b9e448d9005f2ed0e947c8d",
            "3e044e7e28a4441a9aac3840d6227d25",
            "31bd7a1131704401b0746ee1b9eecc52"
          ]
        },
        "id": "glMs4Kxi6RhY",
        "outputId": "68719cda-0b08-46db-97a6-43d663fac6d5"
      },
      "source": [
        "non_0_strt_arr = []\n",
        "hist_arr = np.array(df[[c for c in df.columns if c.find(\"d_\")==0]])\n",
        "for i in tqdm(range(len(df))):\n",
        "    non_0_strt_arr.append(find_first_non_0(hist_arr[i, :]))"
      ],
      "execution_count": 16,
      "outputs": [
        {
          "output_type": "display_data",
          "data": {
            "application/vnd.jupyter.widget-view+json": {
              "model_id": "c798e226a9674b17bc90af49febaf284",
              "version_minor": 0,
              "version_major": 2
            },
            "text/plain": [
              "  0%|          | 0/30490 [00:00<?, ?it/s]"
            ]
          },
          "metadata": {}
        }
      ]
    },
    {
      "cell_type": "code",
      "metadata": {
        "id": "syQgTkXP6UoX"
      },
      "source": [
        "num_non_zero_start = 1885 - np.array(non_0_strt_arr)"
      ],
      "execution_count": 17,
      "outputs": []
    },
    {
      "cell_type": "code",
      "metadata": {
        "id": "FttIRqad6ZBD"
      },
      "source": [
        "historical_mean_arr = df[[c for c in df.columns if c.find('d_')==0 and int(c.split('_')[1]) <=1885] + ['id']].set_index('id')\\\n",
        ".sum(axis=1).reset_index()[0]/num_non_zero_start"
      ],
      "execution_count": 18,
      "outputs": []
    },
    {
      "cell_type": "code",
      "metadata": {
        "colab": {
          "base_uri": "https://localhost:8080/"
        },
        "id": "v-LYywiD6eId",
        "outputId": "dd01b35c-53b0-4531-9126-37cbc967829d"
      },
      "source": [
        "historical_mean_arr"
      ],
      "execution_count": null,
      "outputs": [
        {
          "output_type": "execute_result",
          "data": {
            "text/plain": [
              "0        0.582317\n",
              "1        0.281860\n",
              "2        0.348718\n",
              "3        1.750676\n",
              "4        1.021433\n",
              "           ...   \n",
              "30485    0.539565\n",
              "30486    0.378191\n",
              "30487    0.895435\n",
              "30488    0.714588\n",
              "30489    1.720530\n",
              "Name: 0, Length: 30490, dtype: float64"
            ]
          },
          "metadata": {},
          "execution_count": 98
        }
      ]
    },
    {
      "cell_type": "code",
      "metadata": {
        "id": "RCExuqh06hHU"
      },
      "source": [
        "for d in range(1,29):\n",
        "    df['F_2_'+ str(1885+d)] = historical_mean_arr"
      ],
      "execution_count": 19,
      "outputs": []
    },
    {
      "cell_type": "markdown",
      "metadata": {
        "id": "A4bUzCCJ6trc"
      },
      "source": [
        "Same as previous 28 days"
      ]
    },
    {
      "cell_type": "code",
      "metadata": {
        "id": "zIjnm7XT6o2C"
      },
      "source": [
        "for d in range(1,29):\n",
        "    df['F_3_'+ str(1885+d)] = df['d_'+str(1885+d- 28)]"
      ],
      "execution_count": 20,
      "outputs": []
    },
    {
      "cell_type": "markdown",
      "metadata": {
        "id": "YPzx9bxx60j-"
      },
      "source": [
        "Mean from recent X days"
      ]
    },
    {
      "cell_type": "code",
      "metadata": {
        "colab": {
          "base_uri": "https://localhost:8080/"
        },
        "id": "74V655XH6-he",
        "outputId": "8fa0f510-6529-4876-e011-545d1c08c9dc"
      },
      "source": [
        "num_non_zero_start.min()"
      ],
      "execution_count": 23,
      "outputs": [
        {
          "output_type": "execute_result",
          "data": {
            "text/plain": [
              "40"
            ]
          },
          "metadata": {},
          "execution_count": 23
        }
      ]
    },
    {
      "cell_type": "markdown",
      "metadata": {
        "id": "a_JVIsgz7CZ1"
      },
      "source": [
        "The minimum non zero start days are 40, therefore mean of 10,20,40 should all have non-zero start. "
      ]
    },
    {
      "cell_type": "code",
      "metadata": {
        "id": "7M6MvCXp7TuF"
      },
      "source": [
        "historical_mean_df10 = df[[c for c in df.columns if c.find('d_')==0 and int(c.split('_')[1]) in range(1876,1886)]+['id']] \\\n",
        " .set_index('id')\\\n",
        " .mean(axis=1).reset_index()\n",
        "\n",
        "historical_mean_df20 = df[[c for c in df.columns if c.find('d_')==0 and int(c.split('_')[1]) in range(1866,1886)]+['id']] \\\n",
        " .set_index('id')\\\n",
        " .mean(axis=1).reset_index()\n",
        "\n",
        "historical_mean_df40 = df[[c for c in df.columns if c.find('d_')==0 and int(c.split('_')[1]) in range(1846,1886)]+['id']] \\\n",
        " .set_index('id')\\\n",
        " .mean(axis=1).reset_index()"
      ],
      "execution_count": 21,
      "outputs": []
    },
    {
      "cell_type": "code",
      "metadata": {
        "id": "0b47Tf0L7YCW"
      },
      "source": [
        "for d in range(1,29):\n",
        "    df['F_4_'+ str(1885+d)] = list(historical_mean_df10[0])\n",
        "    df['F_5_'+ str(1885+d)] = list(historical_mean_df20[0])\n",
        "    df['F_6_'+ str(1885+d)] = list(historical_mean_df40[0])"
      ],
      "execution_count": 22,
      "outputs": []
    },
    {
      "cell_type": "markdown",
      "metadata": {
        "id": "Icps3dm67tEh"
      },
      "source": [
        "Infer forecast , validation/ground truth value"
      ]
    },
    {
      "cell_type": "code",
      "metadata": {
        "id": "GqzDuVcf7fN-"
      },
      "source": [
        "agg_df = pd.DataFrame(df[[c for c in df.columns if c.find(\"d_\")==0 or c.find(\"F_\")==0]].sum()).transpose()\n",
        "agg_df['level']=1\n",
        "agg_df['weight']=1/12\n",
        "column_order = agg_df.columns"
      ],
      "execution_count": null,
      "outputs": []
    },
    {
      "cell_type": "code",
      "metadata": {
        "id": "7gsc4P1Q70Os"
      },
      "source": [
        "level_groupings = {2:[\"state_id\"], 3:[\"store_id\"], 4:[\"cat_id\"], 5:[\"dept_id\"],\n",
        "                  6:[\"state_id\",\"cat_id\"],7:[\"state_id\",\"dept_id\"],\n",
        "                  8:[\"store_id\",\"cat_id\"], 9:[\"store_id\",\"dept_id\"],\n",
        "                  10:[\"item_id\"], 11:[\"item_id\",\"state_id\"]}"
      ],
      "execution_count": null,
      "outputs": []
    },
    {
      "cell_type": "markdown",
      "metadata": {
        "id": "h2wllZLy8HTq"
      },
      "source": [
        "Note: Here weight calculated above is divided by 12 (As we are predicted for 12 heirarchical dataset"
      ]
    },
    {
      "cell_type": "code",
      "metadata": {
        "colab": {
          "base_uri": "https://localhost:8080/",
          "height": 49,
          "referenced_widgets": [
            "8f39ac5b99234baab1e0488909bc4d86",
            "48bdd7a8e9714852aeaa50d55e1348ac",
            "f553aa6cd1e749599a02446e04e66f36",
            "3339eec084424a1fb7c5a04fabc29c5c",
            "b61524c06b8e404eadae6e6305906d6d",
            "2d8132a3fbb8499e89d16d6418acfbcd",
            "79b1e6a118024193bb1de0633071fa29",
            "6a085e71ca09433b8b70c5d166ed8e7f",
            "52bfbe1cd9fa41eeb1141d8724255b56",
            "3f07d7d1f6f44cf3838478189a4c46a4",
            "8403d9de82bd4b15a84aaefbdf4f1e84"
          ]
        },
        "id": "g0FMPOyL73ZV",
        "outputId": "1fe253b2-1285-4622-d80d-0482a15398e9"
      },
      "source": [
        "for level in tqdm(level_groupings):\n",
        "    temp_df = df.groupby(by=level_groupings[level]).sum().reset_index(drop=True)\n",
        "    temp_df['level'] = level\n",
        "    temp_df['weight']/=12\n",
        "    agg_df = agg_df.append(temp_df[column_order])"
      ],
      "execution_count": null,
      "outputs": [
        {
          "output_type": "display_data",
          "data": {
            "application/vnd.jupyter.widget-view+json": {
              "model_id": "8f39ac5b99234baab1e0488909bc4d86",
              "version_minor": 0,
              "version_major": 2
            },
            "text/plain": [
              "  0%|          | 0/10 [00:00<?, ?it/s]"
            ]
          },
          "metadata": {}
        }
      ]
    },
    {
      "cell_type": "code",
      "metadata": {
        "id": "DRa4PEog8lx6"
      },
      "source": [
        "df['weight']/=12 "
      ],
      "execution_count": null,
      "outputs": []
    },
    {
      "cell_type": "code",
      "metadata": {
        "colab": {
          "base_uri": "https://localhost:8080/"
        },
        "id": "Ufn-65PM8Ubx",
        "outputId": "53ddde1b-9266-423a-c5fc-7fce01704a37"
      },
      "source": [
        "print(df.shape[0], agg_df.shape[0], df.shape[0] + agg_df.shape[0])"
      ],
      "execution_count": null,
      "outputs": [
        {
          "output_type": "stream",
          "name": "stdout",
          "text": [
            "30490 12350 42840\n"
          ]
        }
      ]
    },
    {
      "cell_type": "code",
      "metadata": {
        "colab": {
          "base_uri": "https://localhost:8080/"
        },
        "id": "bFKpJVjx8aBg",
        "outputId": "7bea178b-f6f6-4011-d0b1-70dc33f04901"
      },
      "source": [
        "agg_df['weight'].sum()+df['weight'].sum()"
      ],
      "execution_count": null,
      "outputs": [
        {
          "output_type": "execute_result",
          "data": {
            "text/plain": [
              "0.9999999999999996"
            ]
          },
          "metadata": {},
          "execution_count": 109
        }
      ]
    },
    {
      "cell_type": "markdown",
      "metadata": {
        "id": "KyPneiOe9qpr"
      },
      "source": [
        "**Accuracy function provide by Walmart**\n",
        "\n",
        "![image.png](data:image/png;base64,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)\n",
        "\n",
        "![image.png](data:image/png;base64,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)"
      ]
    },
    {
      "cell_type": "code",
      "metadata": {
        "id": "SsIYhsTW97Sc"
      },
      "source": [
        "h = 28\n",
        "n = 1885\n",
        "def rmsse(ground_truth, forecast, train_series, axis=1):\n",
        "    # assuming input are numpy array or matrices\n",
        "    assert axis == 0 or axis == 1\n",
        "    assert type(ground_truth) == np.ndarray and type(forecast) == np.ndarray and type(train_series) == np.ndarray\n",
        "    \n",
        "    if axis == 1:\n",
        "        # using axis == 1 we must guarantee these are matrices and not arrays\n",
        "        assert ground_truth.shape[1] > 1 and forecast.shape[1] > 1 and train_series.shape[1] > 1\n",
        "    \n",
        "    numerator = ((ground_truth - forecast)**2).sum(axis=axis)\n",
        "    if axis == 1:\n",
        "        denominator = 1/(n-1) * ((train_series[:, 1:] - train_series[:, :-1]) ** 2).sum(axis=axis)\n",
        "    else:\n",
        "        denominator = 1/(n-1) * ((train_series[1:] - train_series[:-1]) ** 2).sum(axis=axis)\n",
        "    return (1/h * numerator/denominator) ** 0.5"
      ],
      "execution_count": null,
      "outputs": []
    },
    {
      "cell_type": "markdown",
      "metadata": {
        "id": "UPyWILkl89qb"
      },
      "source": [
        "Split into training and validation data set\n",
        "Here, we are forecast for 28 days of data\n",
        "- Training Series : 0 - 1885\n",
        "- Validation/Ground truth : 1886 - 1913"
      ]
    },
    {
      "cell_type": "code",
      "metadata": {
        "id": "xItDGmBf899s"
      },
      "source": [
        "train_series_cols = [c for c in df.columns if c.find(\"d_\") == 0][:-28]\n",
        "ground_truth_cols = [c for c in df.columns if c.find(\"d_\") == 0][-28:]\n",
        "\n",
        "forecast_cols_dict={}\n",
        "\n",
        "for i in range(1,7):\n",
        "    forecast_cols_dict[i] = [c for c in df.columns if c.find('F_'+str(i)+\"_\") == 0]"
      ],
      "execution_count": null,
      "outputs": []
    },
    {
      "cell_type": "code",
      "metadata": {
        "id": "hqY2auT-9XUx"
      },
      "source": [
        "for i in range(1,7):\n",
        "    agg_df[\"rmsse_\"+str(i)+'_bu'] = rmsse(np.array(agg_df[ground_truth_cols]), \\\n",
        "                   np.array(agg_df[forecast_cols_dict[i]]), np.array(agg_df[train_series_cols]))\n",
        "    df[\"rmsse_\"+ str(i)+'_bu'] = rmsse(np.array(df[ground_truth_cols]), \\\n",
        "                          np.array(df[forecast_cols_dict[i]]), np.array(df[train_series_cols]))"
      ],
      "execution_count": null,
      "outputs": []
    },
    {
      "cell_type": "code",
      "metadata": {
        "id": "kK-i3dZ9-WU5"
      },
      "source": [
        "for i in range(1,7):\n",
        "    df['wrmsse_'+str(i)+'_bu'] = df['weight']*df[\"rmsse_\"+ str(i)+'_bu']\n",
        "    agg_df['wrmsse_'+str(i)+'_bu'] = agg_df['weight']* agg_df['rmsse_'+str(i)+'_bu']"
      ],
      "execution_count": null,
      "outputs": []
    },
    {
      "cell_type": "code",
      "metadata": {
        "colab": {
          "base_uri": "https://localhost:8080/"
        },
        "id": "gqWHmRXp-dUF",
        "outputId": "1758986b-0661-46bc-eb22-f3985d0c73db"
      },
      "source": [
        "for i in range(1,7):\n",
        "    print('method:'+method_dict[i])\n",
        "    print(df['wrmsse_'+str(i)+'_bu'].sum()+agg_df['wrmsse_'+str(i)+'_bu'].sum())"
      ],
      "execution_count": null,
      "outputs": [
        {
          "output_type": "stream",
          "name": "stdout",
          "text": [
            "method:complete historical mean\n",
            "1.654145319495266\n",
            "method:historical mean after first non zero sales\n",
            "1.2467448505459666\n",
            "method:Same as previous 28 days\n",
            "0.8558233199674036\n",
            "method:Mean of previous 10 days\n",
            "1.1682107851100296\n",
            "method:Mean of previous 20 days\n",
            "1.1412136208411776\n",
            "method:Mean of previous 40 days\n",
            "1.1380883217322864\n"
          ]
        }
      ]
    },
    {
      "cell_type": "markdown",
      "metadata": {
        "id": "bXj7Ykjo-pLi"
      },
      "source": [
        "As per result above, the best model is when we took previous 28 days model for forecasting the future."
      ]
    },
    {
      "cell_type": "markdown",
      "metadata": {
        "id": "1SIFifxR-0RJ"
      },
      "source": [
        "**Top Down Approach**"
      ]
    },
    {
      "cell_type": "code",
      "metadata": {
        "id": "GLqvtjJuIIsX"
      },
      "source": [
        "agg_df_tp = pd.DataFrame(df[[c for c in df.columns if c.find(\"d_\") == 0]].sum()).transpose()\n",
        "id_cols = [\"item_id\", \"dept_id\", \"cat_id\", \"store_id\", \"state_id\"]\n",
        "for col in id_cols:\n",
        "    agg_df_tp[col] = 'all'\n",
        "agg_df_tp[\"level\"] = 1\n",
        "agg_df_tp[\"weight\"] = 1/12\n",
        "column_order = agg_df_tp.columns"
      ],
      "execution_count": 53,
      "outputs": []
    },
    {
      "cell_type": "code",
      "metadata": {
        "colab": {
          "base_uri": "https://localhost:8080/",
          "height": 49,
          "referenced_widgets": [
            "8d40cec508a34a2b80bf020c56669447",
            "28c12b414c254957b236177c9432a298",
            "cb1e0c83f2e14c1ba0783b7d86af32e0",
            "410ac0b5c9904cd3a4b418607d4aa4f8",
            "32f7c312646e4a02beab19943a33029c",
            "e76d9db17cd944fe9d51428b3b86659e",
            "e063099e88934b38bbfd0e889d8664fb",
            "e95926c79a844a7eae9a41af6ca7e161",
            "cbfbc4a591e24cc2a75f6e400a4c3302",
            "c791c95d7f314c5597994619b66b3641",
            "d02089d91b60400890c8f1fca1fde0b6"
          ]
        },
        "id": "MRV7gwaYR0s0",
        "outputId": "a1ae8bda-d190-44de-e276-49a92afac5ca"
      },
      "source": [
        "for level in tqdm(level_groupings):\n",
        "    temp_df = df.groupby(by=level_groupings[level]).sum().reset_index()\n",
        "    temp_df[\"level\"] = level\n",
        "    for c in column_order:\n",
        "        if c not in temp_df.columns:\n",
        "            temp_df[c] = 'all'\n",
        "    agg_df_tp = agg_df_tp.append(temp_df[column_order])\n",
        "\n",
        "del temp_df"
      ],
      "execution_count": 54,
      "outputs": [
        {
          "output_type": "display_data",
          "data": {
            "application/vnd.jupyter.widget-view+json": {
              "model_id": "8d40cec508a34a2b80bf020c56669447",
              "version_minor": 0,
              "version_major": 2
            },
            "text/plain": [
              "  0%|          | 0/10 [00:00<?, ?it/s]"
            ]
          },
          "metadata": {}
        }
      ]
    },
    {
      "cell_type": "code",
      "metadata": {
        "id": "G4s2C4vzU9CH"
      },
      "source": [
        "agg_df_tp.to_csv('/content/drive/MyDrive/Colab Notebooks/data/m5-forecasting-accuracy/top_down_agg_levels.csv',sep=',')"
      ],
      "execution_count": null,
      "outputs": []
    },
    {
      "cell_type": "code",
      "metadata": {
        "colab": {
          "base_uri": "https://localhost:8080/"
        },
        "id": "xLvC6yzOS0vd",
        "outputId": "ed088f75-f518-4b72-80d4-adf0fe260295"
      },
      "source": [
        "print(df.shape[0], agg_df_tp.shape[0], df.shape[0] + agg_df_tp.shape[0])"
      ],
      "execution_count": 55,
      "outputs": [
        {
          "output_type": "stream",
          "name": "stdout",
          "text": [
            "30490 12350 42840\n"
          ]
        }
      ]
    },
    {
      "cell_type": "code",
      "metadata": {
        "colab": {
          "base_uri": "https://localhost:8080/"
        },
        "id": "-ygqnrGhTbyC",
        "outputId": "d6d7b5fa-16b2-462c-9c46-778e1bf9681f"
      },
      "source": [
        "agg_df_tp[\"weight\"].sum() + df[\"weight\"].sum()"
      ],
      "execution_count": 56,
      "outputs": [
        {
          "output_type": "execute_result",
          "data": {
            "text/plain": [
              "11.083333333333329"
            ]
          },
          "metadata": {},
          "execution_count": 56
        }
      ]
    },
    {
      "cell_type": "markdown",
      "metadata": {
        "id": "wA4BALBAUK8B"
      },
      "source": [
        "Estimate model at walmart level and then redistribute forecast to all hierarchy using historical 28 days propositions."
      ]
    },
    {
      "cell_type": "code",
      "metadata": {
        "id": "J7hMV9z-TkmO"
      },
      "source": [
        "df[\"last28_mean\"] = df[[c for c in df.columns if c.find(\"d_\")==0 and\\\n",
        "        int(c.split(\"_\")[1]) in range(1858, 1886)] +\\\n",
        "       [\"id\"]].set_index(\"id\").transpose().mean().reset_index()[0]"
      ],
      "execution_count": 57,
      "outputs": []
    },
    {
      "cell_type": "code",
      "metadata": {
        "colab": {
          "base_uri": "https://localhost:8080/",
          "height": 49,
          "referenced_widgets": [
            "1ccd2820ec4542bd95f462d80f88b362",
            "0748dbd8d11b4706a5afd03582afa363",
            "7f8d0bd9101b48d58849dbd1ee39eaec",
            "be63117c0e344628a1c55bc30ec134f5",
            "8c6364e977a64f3a8c443865887e4319",
            "3eb8017d824446f39bf260e40ab9893e",
            "49f53c57c4e34c50bef6161cb26a2adb",
            "72633c9b557e4120b5e5b7a2db1ecbf3",
            "d29ae16955394560aecbf18a5665467f",
            "adc6625578ab4378ab3c4b70f51bc64c",
            "cb267ce287134784b55abfe53aebfaa2"
          ]
        },
        "id": "I7bHQvnQUkTu",
        "outputId": "0d61eccc-3820-49d1-c4c4-cd199fd01a43"
      },
      "source": [
        "for l in tqdm(range(1, 10)):\n",
        "    # 1. make forecast for this level\n",
        "    this_level_df = agg_df_tp[agg_df_tp[\"level\"]==l].copy()\n",
        "    for d in range(1, 29):\n",
        "        this_level_df[\"F_\" + str(l) + \"_\" + str(1885 + d)] = this_level_df[\"d_\" + str(1885 + d - 28)]\n",
        "    \n",
        "    # from this level, distribute forecast to all level 12 series\n",
        "    # find columns with non 'all' entries\n",
        "    important_column_ids = list(this_level_df[id_cols].columns[this_level_df[id_cols].nunique()!=1])\n",
        "    this_level_df.reset_index(drop=True, inplace=True)\n",
        "    for i, row in this_level_df.iterrows():\n",
        "        #eg. level =1\n",
        "        if len(important_column_ids) == 0:\n",
        "            level_mean_with_cond = this_level_df[[c for c in df.columns if c.find(\"d_\")==0 and\\\n",
        "                                   int(c.split(\"_\")[1]) in range(1858, 1886)]].transpose().mean()[0]\n",
        "            proportion = df[\"last28_mean\"] / level_mean_with_cond \n",
        "            for d in range(1, 29):\n",
        "                df[\"F_\" + str(l) + \"_\" + str(1885 + d)] = list(this_level_df[\"F_\" + str(l) + \"_\" + str(1885 + d)])[0] * proportion\n",
        "        else:\n",
        "           #eg. Level 2 and above\n",
        "            cond = True\n",
        "            for col in important_column_ids:\n",
        "                cond = cond & (df[col] == row[col])\n",
        "                \n",
        "            level_mean_with_cond = this_level_df[[c for c in df.columns if c.find(\"d_\")==0 and\\\n",
        "                                   int(c.split(\"_\")[1]) in range(1858, 1886)]].transpose().mean()[i]\n",
        "            proportion = df[\"last28_mean\"] / level_mean_with_cond \n",
        "            for d in range(1, 29):\n",
        "                df.loc[cond, \"F_\" + str(l) + \"_\" + str(1885 + d)] = row[\"F_\" + str(l) + \"_\" + str(1885 + d)] * proportion\n",
        "    \n",
        "# remake agg_df\n",
        "new_agg_df = pd.DataFrame(df[[c for c in df.columns if c.find(\"d_\") == 0 or c.find(\"F_\") == 0]].sum()).transpose()\n",
        "id_cols = [\"item_id\", \"dept_id\", \"cat_id\", \"store_id\", \"state_id\"]\n",
        "for col in id_cols:\n",
        "    new_agg_df[col] = 'all'\n",
        "new_agg_df[\"level\"] = 1\n",
        "new_agg_df[\"weight\"] = 1/12\n",
        "column_order = new_agg_df.columns\n",
        "\n",
        "for level in level_groupings:\n",
        "    temp_df = df.groupby(by=level_groupings[level]).sum().reset_index()\n",
        "    temp_df[\"level\"] = level\n",
        "    for c in column_order:\n",
        "        if c not in temp_df.columns:\n",
        "            temp_df[c] = 'all'\n",
        "    new_agg_df = new_agg_df.append(temp_df[column_order])\n",
        "del temp_df"
      ],
      "execution_count": 63,
      "outputs": [
        {
          "output_type": "display_data",
          "data": {
            "application/vnd.jupyter.widget-view+json": {
              "model_id": "1ccd2820ec4542bd95f462d80f88b362",
              "version_minor": 0,
              "version_major": 2
            },
            "text/plain": [
              "  0%|          | 0/9 [00:00<?, ?it/s]"
            ]
          },
          "metadata": {}
        }
      ]
    },
    {
      "cell_type": "code",
      "metadata": {
        "id": "L6Z8hskivma_"
      },
      "source": [
        "train_series_cols = [c for c in df.columns if c.find(\"d_\") == 0][:-28]\n",
        "ground_truth_cols = [c for c in df.columns if c.find(\"d_\") == 0][-28:]\n",
        "\n",
        "forecast_cols_dict = {}\n",
        "for i in range(1, 10):\n",
        "    forecast_cols_dict[i] = [c for c in df.columns if c.find(\"F_\"+str(i)+\"_\") == 0]"
      ],
      "execution_count": null,
      "outputs": []
    },
    {
      "cell_type": "code",
      "metadata": {
        "id": "cefucI9Pv-Qk"
      },
      "source": [
        "for i in range(1, 10):\n",
        "    df[\"rmsse_\" + str(i)+'_tp'] = rmsse(np.array(df[ground_truth_cols]), \n",
        "        np.array(df[forecast_cols_dict[i]]), np.array(df[train_series_cols]))\n",
        "    new_agg_df[\"rmsse_\" + str(i)+'_tp'] = rmsse(np.array(new_agg_df[ground_truth_cols]), \n",
        "        np.array(new_agg_df[forecast_cols_dict[i]]), np.array(new_agg_df[train_series_cols]))"
      ],
      "execution_count": null,
      "outputs": []
    },
    {
      "cell_type": "code",
      "metadata": {
        "id": "cY6SZUTXwfTM"
      },
      "source": [
        "for i in range(1, 10):\n",
        "    df[\"wrmsse_\" + str(i)+'_tp'] = df[\"weight\"] * df[\"rmsse_\" + str(i)+'_tp']\n",
        "    new_agg_df[\"wrmsse_\" + str(i)+'_tp'] = new_agg_df[\"weight\"] * new_agg_df[\"rmsse_\" + str(i)+'_tp']"
      ],
      "execution_count": null,
      "outputs": []
    },
    {
      "cell_type": "code",
      "metadata": {
        "colab": {
          "base_uri": "https://localhost:8080/"
        },
        "id": "xHpmJ2kJwxvz",
        "outputId": "99b03218-3983-47eb-decb-ddec3238ff5c"
      },
      "source": [
        "for i in range(1, 10):\n",
        "    print(\"Aggregation by level\", str(i) + \":\")\n",
        "    print(df[\"wrmsse_\" + str(i)+'_tp'].sum() + new_agg_df[\"wrmsse_\" + str(i)+'_tp'].sum())\n",
        "    print()"
      ],
      "execution_count": null,
      "outputs": [
        {
          "output_type": "stream",
          "name": "stdout",
          "text": [
            "Aggregation by level 1:\n",
            "0.7526969415454267\n",
            "\n",
            "Aggregation by level 2:\n",
            "0.7583278269835318\n",
            "\n",
            "Aggregation by level 3:\n",
            "0.7640636603286007\n",
            "\n",
            "Aggregation by level 4:\n",
            "0.7573295317439532\n",
            "\n",
            "Aggregation by level 5:\n",
            "0.75430855086912\n",
            "\n",
            "Aggregation by level 6:\n",
            "0.7635048362696782\n",
            "\n",
            "Aggregation by level 7:\n",
            "0.7618576696686441\n",
            "\n",
            "Aggregation by level 8:\n",
            "0.7717987726658355\n",
            "\n",
            "Aggregation by level 9:\n",
            "0.7726889521635331\n",
            "\n"
          ]
        }
      ]
    },
    {
      "cell_type": "markdown",
      "metadata": {
        "id": "hFY6C8Y1w8BO"
      },
      "source": [
        "In top down approach aggregation at the top level is better than other level."
      ]
    },
    {
      "cell_type": "markdown",
      "metadata": {
        "id": "V_fNYRA1gJ6J"
      },
      "source": [
        "Average of MAPE Validation for Level 1 "
      ]
    },
    {
      "cell_type": "code",
      "metadata": {
        "colab": {
          "base_uri": "https://localhost:8080/"
        },
        "id": "xmOG-bCRgJTG",
        "outputId": "c94184ef-69f1-46e3-9d40-effb771cbf40"
      },
      "source": [
        "mape_df = new_agg_df[new_agg_df['level']==1].copy()\n",
        "total_mape = 0.0\n",
        "total_count = 0\n",
        "for d in range(1,29):\n",
        "       total_mape += 1 - np.divide(np.absolute(np.subtract(mape_df['F_1_'+str(1885+d)], mape_df['d_'+str(1885+d)])),  mape_df['d_'+str(1885+d)])\n",
        "       total_count=total_count+1\n",
        "print('Average of MAPE for 28 days prediction : '+ str((total_mape[0]/total_count)*100))             "
      ],
      "execution_count": 87,
      "outputs": [
        {
          "output_type": "stream",
          "name": "stdout",
          "text": [
            "Average of MAPE for 28 days prediction : 94.08700567258444\n"
          ]
        }
      ]
    }
  ]
}